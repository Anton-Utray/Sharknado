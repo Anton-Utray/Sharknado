{
 "cells": [
  {
   "cell_type": "code",
   "execution_count": 365,
   "metadata": {},
   "outputs": [],
   "source": [
    "import pandas as pd\n",
    "import numpy as np\n",
    "from repo_funciones import * #repositorio propio de funciones\n",
    "import re #para expresiones regulares"
   ]
  },
  {
   "cell_type": "code",
   "execution_count": 366,
   "metadata": {},
   "outputs": [],
   "source": [
    "pd.set_option('display.max_columns', None)\n",
    "pd.set_option('display.max_rows', None)\n",
    "data = pd.read_csv('../Sharknado/attacks_messy.csv', encoding='utf-8',encoding_errors=\"ignore\" )"
   ]
  },
  {
   "attachments": {},
   "cell_type": "markdown",
   "metadata": {},
   "source": [
    "Exploración Inicial"
   ]
  },
  {
   "cell_type": "code",
   "execution_count": 368,
   "metadata": {},
   "outputs": [
    {
     "data": {
      "text/plain": [
       "(25723, 24)"
      ]
     },
     "execution_count": 368,
     "metadata": {},
     "output_type": "execute_result"
    }
   ],
   "source": [
    "dim_original = data.shape #Registramos dimensiones iniciales del archivo para luego ir comparando\n",
    "dim_original"
   ]
  },
  {
   "cell_type": "code",
   "execution_count": 369,
   "metadata": {},
   "outputs": [],
   "source": [
    "#data.head() Usamos estas funciones para ir haciendonos una idea de los datos y las columnas\n",
    "#data.tail() Con este nos damos cuenta de que al final del archivo hay filas enteras con valores nulos"
   ]
  },
  {
   "cell_type": "code",
   "execution_count": 370,
   "metadata": {},
   "outputs": [],
   "source": [
    "#data.info() #Estimación de que columnas necesitan mas trabajo. Por gusto mío prefiero verlo a la inversa -> que columnas tienen mas valores nulos."
   ]
  },
  {
   "cell_type": "code",
   "execution_count": 371,
   "metadata": {},
   "outputs": [
    {
     "data": {
      "text/plain": [
       "Unnamed: 22               25722\n",
       "Unnamed: 23               25721\n",
       "Time                      22775\n",
       "Species                   22259\n",
       "Age                       22252\n",
       "Sex                       19986\n",
       "Activity                  19965\n",
       "Location                  19961\n",
       "Fatal (Y/N)               19960\n",
       "Area                      19876\n",
       "Name                      19631\n",
       "Country                   19471\n",
       "Injury                    19449\n",
       "Investigator or Source    19438\n",
       "Type                      19425\n",
       "Year                      19423\n",
       "href formula              19422\n",
       "Date                      19421\n",
       "pdf                       19421\n",
       "href                      19421\n",
       "Case Number.1             19421\n",
       "Case Number.2             19421\n",
       "original order            19414\n",
       "Case Number               17021\n",
       "dtype: int64"
      ]
     },
     "execution_count": 371,
     "metadata": {},
     "output_type": "execute_result"
    }
   ],
   "source": [
    "nancols(data) #Conteo de valores nulos por col, ascending False."
   ]
  },
  {
   "cell_type": "code",
   "execution_count": 372,
   "metadata": {},
   "outputs": [
    {
     "data": {
      "text/plain": [
       "Unnamed: 22               100.00\n",
       "Unnamed: 23                99.99\n",
       "Time                       88.54\n",
       "Species                    86.53\n",
       "Age                        86.51\n",
       "Sex                        77.70\n",
       "Activity                   77.62\n",
       "Location                   77.60\n",
       "Fatal (Y/N)                77.60\n",
       "Area                       77.27\n",
       "Name                       76.32\n",
       "Country                    75.69\n",
       "Injury                     75.61\n",
       "Investigator or Source     75.57\n",
       "Type                       75.52\n",
       "Year                       75.51\n",
       "href formula               75.50\n",
       "Date                       75.50\n",
       "pdf                        75.50\n",
       "href                       75.50\n",
       "Case Number.1              75.50\n",
       "Case Number.2              75.50\n",
       "original order             75.47\n",
       "Case Number                66.17\n",
       "dtype: float64"
      ]
     },
     "execution_count": 372,
     "metadata": {},
     "output_type": "execute_result"
    }
   ],
   "source": [
    "nancolsper(data) #conteo de valores nulos como % del total de la columna. Nos da una mejor estimación "
   ]
  },
  {
   "attachments": {},
   "cell_type": "markdown",
   "metadata": {},
   "source": [
    "Limpieza duplicados y columnas vacias"
   ]
  },
  {
   "cell_type": "code",
   "execution_count": 373,
   "metadata": {},
   "outputs": [],
   "source": [
    "data= data.drop_duplicates()"
   ]
  },
  {
   "cell_type": "code",
   "execution_count": 374,
   "metadata": {},
   "outputs": [
    {
     "data": {
      "text/plain": [
       "array([False])"
      ]
     },
     "execution_count": 374,
     "metadata": {},
     "output_type": "execute_result"
    }
   ],
   "source": [
    "data.duplicated().unique()"
   ]
  },
  {
   "cell_type": "code",
   "execution_count": 375,
   "metadata": {},
   "outputs": [],
   "source": [
    "data=data.drop(nanrows(data)[nanrows(data)> 19]) #Si en una fila 90% de los valores son nulos, se descartan"
   ]
  },
  {
   "cell_type": "code",
   "execution_count": 376,
   "metadata": {},
   "outputs": [],
   "source": [
    "data = data.reset_index(drop=True)"
   ]
  },
  {
   "cell_type": "code",
   "execution_count": 377,
   "metadata": {},
   "outputs": [],
   "source": [
    "data = data.drop(nanrows(data)[nanrows(data) >= 15]) #Si en una fila 60% de los valores son nulos, se descartan."
   ]
  },
  {
   "cell_type": "code",
   "execution_count": 378,
   "metadata": {},
   "outputs": [
    {
     "data": {
      "text/plain": [
       "((25723, 24), (6306, 24))"
      ]
     },
     "execution_count": 378,
     "metadata": {},
     "output_type": "execute_result"
    }
   ],
   "source": [
    "dim_original, data.shape"
   ]
  },
  {
   "cell_type": "code",
   "execution_count": 379,
   "metadata": {},
   "outputs": [],
   "source": [
    "data = data.reset_index(drop=True)"
   ]
  },
  {
   "cell_type": "code",
   "execution_count": 380,
   "metadata": {},
   "outputs": [
    {
     "data": {
      "text/plain": [
       "Unnamed: 22               99.98\n",
       "Unnamed: 23               99.97\n",
       "Time                      53.30\n",
       "Species                   45.15\n",
       "Age                       45.04\n",
       "Sex                        9.12\n",
       "Activity                   8.79\n",
       "Location                   8.72\n",
       "Fatal (Y/N)                8.69\n",
       "Area                       7.37\n",
       "Name                       3.49\n",
       "Country                    0.95\n",
       "Injury                     0.60\n",
       "Investigator or Source     0.43\n",
       "Type                       0.22\n",
       "Year                       0.19\n",
       "href formula               0.17\n",
       "Date                       0.16\n",
       "pdf                        0.16\n",
       "href                       0.16\n",
       "Case Number.1              0.16\n",
       "Case Number.2              0.16\n",
       "original order             0.05\n",
       "Case Number                0.03\n",
       "dtype: float64"
      ]
     },
     "execution_count": 380,
     "metadata": {},
     "output_type": "execute_result"
    }
   ],
   "source": [
    "nancolsper(data) #Unamed 22 y 23 estan vacías y no aportan nada. Se descartan."
   ]
  },
  {
   "cell_type": "code",
   "execution_count": 381,
   "metadata": {},
   "outputs": [],
   "source": [
    "data.drop([\"Unnamed: 22\", \"Unnamed: 23\"], axis=1, inplace=True)  #Reminder, axis 0 son filas y axis columnas"
   ]
  },
  {
   "cell_type": "code",
   "execution_count": 382,
   "metadata": {},
   "outputs": [
    {
     "data": {
      "text/plain": [
       "Time                      53.30\n",
       "Species                   45.15\n",
       "Age                       45.04\n",
       "Sex                        9.12\n",
       "Activity                   8.79\n",
       "Location                   8.72\n",
       "Fatal (Y/N)                8.69\n",
       "Area                       7.37\n",
       "Name                       3.49\n",
       "Country                    0.95\n",
       "Injury                     0.60\n",
       "Investigator or Source     0.43\n",
       "Type                       0.22\n",
       "Year                       0.19\n",
       "href formula               0.17\n",
       "Date                       0.16\n",
       "Case Number.2              0.16\n",
       "pdf                        0.16\n",
       "href                       0.16\n",
       "Case Number.1              0.16\n",
       "original order             0.05\n",
       "Case Number                0.03\n",
       "dtype: float64"
      ]
     },
     "execution_count": 382,
     "metadata": {},
     "output_type": "execute_result"
    }
   ],
   "source": [
    "nancolsper(data) #Time,species y age, la proporción de valores nulos es demasiado representativa para poder rellenar con media/moda ya que introduciría un sesgo muy importante."
   ]
  },
  {
   "cell_type": "code",
   "execution_count": 383,
   "metadata": {},
   "outputs": [],
   "source": [
    "data.columns = data.columns.str.strip().str.capitalize().str.title().str.replace(':','').str.replace(' ','_').str.replace('.','_')"
   ]
  },
  {
   "attachments": {},
   "cell_type": "markdown",
   "metadata": {},
   "source": [
    "Limpieza Columna \"Time\""
   ]
  },
  {
   "cell_type": "code",
   "execution_count": 384,
   "metadata": {},
   "outputs": [],
   "source": [
    "#data[\"Time\"].unique() #Vemos hay muchas inconsistencias en los valores, hay que homogenizar"
   ]
  },
  {
   "cell_type": "code",
   "execution_count": 385,
   "metadata": {},
   "outputs": [],
   "source": [
    "#unique_cols(data) #364 valores unicos \n",
    "#get_unique_dtypes(data, \"Time\") #con strings y con floats. Se intuye floats seran los valores nulos."
   ]
  },
  {
   "cell_type": "code",
   "execution_count": 386,
   "metadata": {},
   "outputs": [],
   "source": [
    "data[\"Time\"]=data[\"Time\"].fillna(\"unknown\")"
   ]
  },
  {
   "cell_type": "code",
   "execution_count": 387,
   "metadata": {},
   "outputs": [],
   "source": [
    "data[\"Time\"] = data[\"Time\"].str.replace('h',':')"
   ]
  },
  {
   "cell_type": "code",
   "execution_count": 388,
   "metadata": {},
   "outputs": [],
   "source": [
    "#convención de tiempo\n",
    "#Morning: 6am a 12\n",
    "#afternoon: 12 a 7\n",
    "#night: 8 a 5am\n",
    "#Asumimos que todos ingresaron la hora en formato 24h\n",
    "data.loc[data[\"Time\"]==\"14:00  -15:00\", \"Time\"]=\"14:30\"\n",
    "data.loc[data[\"Time\"]==\"Late afternoon\", \"Time\"]=\"18:00\"\n",
    "data.loc[data[\"Time\"]==\"Morning\", \"Time\"]=\"09:00\"\n",
    "data.loc[data[\"Time\"]==\"19:00, Dusk\", \"Time\"]=\"19:00\"\n",
    "data.loc[data[\"Time\"]==\"Nig:t\", \"Time\"]=\"21:00\"\n",
    "data.loc[data[\"Time\"]==\"Afternoon\", \"Time\"]=\"17:00\"\n",
    "data.loc[data[\"Time\"]==\"Midday\", \"Time\"]=\"13:00\"\n",
    "data.loc[data[\"Time\"]==\"S:ortly before 12:00\", \"Time\"]=\"11:30\"\n",
    "data.loc[data[\"Time\"]==\"After noon\", \"Time\"]=\"13:00\"\n",
    "data.loc[data[\"Time\"]==\"14:30 / 15:30\", \"Time\"]=\"15:00\"\n",
    "data.loc[data[\"Time\"]==\"Midnig:t\", \"Time\"]=\"24:00\"\n",
    "data.loc[data[\"Time\"]==\"09:30 / 10:00\", \"Time\"]=\"09:40\"\n",
    "data.loc[data[\"Time\"]==\"10:45-11:15\", \"Time\"]=\"11:00\"\n",
    "data.loc[data[\"Time\"]==\"Evening\", \"Time\"]=\"20:00\"\n",
    "data.loc[data[\"Time\"]==\"Sometime between 06:00 & 08:oo\", \"Time\"]=\"07:00\"\n",
    "data.loc[data[\"Time\"]==\"Early afternoon\", \"Time\"]=\"14:00\"\n",
    "data.loc[data[\"Time\"]==\"18:15-18:30\", \"Time\"]=\"18:20\"\n",
    "data.loc[data[\"Time\"]==\"09:00 - 09:30\", \"Time\"]=\"09:15\"\n",
    "data.loc[data[\"Time\"]==\"0830\", \"Time\"]=\"08:30\"\n",
    "data.loc[data[\"Time\"]==\"Just before noon\", \"Time\"]=\"11:30\"\n",
    "data.loc[data[\"Time\"]==\"1600\", \"Time\"]=\"16:00\"\n",
    "data.loc[data[\"Time\"]==\"Early morning\", \"Time\"]=\"09:00\"\n",
    "data.loc[data[\"Time\"]==\"Dawn\", \"Time\"]=\"07:00\"\n",
    "data.loc[data[\"Time\"]==\"AM\", \"Time\"]=\"07:00\"\n",
    "data.loc[data[\"Time\"]==\"A.M\", \"Time\"]=\"07:00\"\n",
    "data.loc[data[\"Time\"]==\"Dusk\", \"Time\"]=\"20:00\"\n",
    "data.loc[data[\"Time\"]==\"Lunc:time\", \"Time\"]=\"13:00\"\n",
    "data.loc[data[\"Time\"]==\"15j45\", \"Time\"]=\"15:45\"\n",
    "data.loc[data[\"Time\"]==\"0500\", \"Time\"]=\"05:00\"\n",
    "data.loc[data[\"Time\"]==\"Before 07:00\", \"Time\"]=\"06:00\"\n",
    "data.loc[data[\"Time\"]==\"10:00 -- 11:00\", \"Time\"]=\"10:30\"\n",
    "data.loc[data[\"Time\"]=='\"Just before 11:00\"', \"Time\"]=\"10:30\"\n",
    "data.loc[data[\"Time\"]==\"Sunset\", \"Time\"]=\"19:30\"\n",
    "data.loc[data[\"Time\"]==\"Just before sundown\", \"Time\"]=\"19:30\"\n",
    "data.loc[data[\"Time\"]==\"Between 05:00 and 08:00\", \"Time\"]=\"06:30\"\n",
    "data.loc[data[\"Time\"]==\"17:00 or 17:40\", \"Time\"]=\"17:20\"\n",
    "data.loc[data[\"Time\"]==\">08:00\", \"Time\"]=\"08:20\"\n",
    "data.loc[data[\"Time\"]==\"--\", \"Time\"]=\"unknown\"\n",
    "data.loc[data[\"Time\"]==\"Just after 12:00\", \"Time\"]=\"12:30\"\n",
    "data.loc[data[\"Time\"]==\"Early Morning\", \"Time\"]=\"08:30\"\n",
    "data.loc[data[\"Time\"]==\"S:ortly after midnig:t\", \"Time\"]=\"24:30\"\n",
    "data.loc[data[\"Time\"]==\"09:00 -10:00\", \"Time\"]=\"09:30\"\n",
    "data.loc[data[\"Time\"]==\"20:45 (Sunset)\", \"Time\"]=\"20:45\"\n",
    "data.loc[data[\"Time\"]==\"Late morning\", \"Time\"]=\"11:00\"\n",
    "data.loc[data[\"Time\"]==\"P.M.\", \"Time\"]=\"14:00\"\n",
    "data.loc[data[\"Time\"]==\"S:ortly before 13:00\", \"Time\"]=\"12:00\"\n",
    "data.loc[data[\"Time\"]==\"8:04 pm\", \"Time\"]=\"08:00\"\n",
    "data.loc[data[\"Time\"]==\"Possibly same incident as 2000.08.21\", \"Time\"]=\"unknown\"\n",
    "data.loc[data[\"Time\"]==\"After Dusk\", \"Time\"]=\"09:00\"\n",
    "data.loc[data[\"Time\"]==\"Noon\", \"Time\"]=\"12:00\"\n",
    "data.loc[data[\"Time\"]==\"2 :ours after Opperman\", \"Time\"]=\"unknown\"\n",
    "data.loc[data[\"Time\"]==\"Mid afternoon\", \"Time\"]=\"14:00\"\n",
    "data.loc[data[\"Time\"]==\"Mid morning\", \"Time\"]=\"11:00\"\n",
    "data.loc[data[\"Time\"]==\"11:00 / 11:30\", \"Time\"]=\"11:00\"\n",
    "data.loc[data[\"Time\"]=='\"Nig:t\"', \"Time\"]=\"21:00\"\n",
    "data.loc[data[\"Time\"]=='18:30?', \"Time\"]=\"18:30\"\n",
    "data.loc[data[\"Time\"]=='30 minutes after 1992.07.08.a', \"Time\"]=\"unknown\"\n",
    "data.loc[data[\"Time\"]==\">06:45\", \"Time\"]=\"06:45\"\n",
    "data.loc[data[\"Time\"]==\"Between 06:00 & 07:20\", \"Time\"]=\"06:45\"\n",
    "data.loc[data[\"Time\"]==\"<07:30\", \"Time\"]=\"06:45\"\n",
    "data.loc[data[\"Time\"]==\"17:00 Sunset\", \"Time\"]=\"17:00\"\n",
    "data.loc[data[\"Time\"]==\"Nig:tfal\", \"Time\"]=\"20:00\"\n",
    "data.loc[data[\"Time\"]==\"X\", \"Time\"]=\"unknown\"\n",
    "data.loc[data[\"Time\"]==\"18:30 (Sunset)\", \"Time\"]=\"18:30\"\n",
    "data.loc[data[\"Time\"]==\"06j00\", \"Time\"]=\"06:00\"\n",
    "data.loc[data[\"Time\"]==\"Prior to 10:37\", \"Time\"]=\"10:00\"\n",
    "data.loc[data[\"Time\"]==\"Daybreak\", \"Time\"]=\"20:00\"\n",
    "data.loc[data[\"Time\"]==\">12:00\", \"Time\"]=\"12:00\"\n",
    "data.loc[data[\"Time\"]==\"Mid-morning\", \"Time\"]=\"11:00\"\n",
    "data.loc[data[\"Time\"]==\"16:30 or 18:00\", \"Time\"]=\"18:00\"\n",
    "data.loc[data[\"Time\"]==\"Just before dawn\", \"Time\"]=\"19:00\"\n",
    "data.loc[data[\"Time\"]==\"Daytime\", \"Time\"]=\"10:00\"\n",
    "data.loc[data[\"Time\"]==\"Dark\", \"Time\"]=\"23:00\"\n",
    "data.loc[data[\"Time\"]==\"10:00 / 11:00\", \"Time\"]=\"10:00\"\n",
    "data.loc[data[\"Time\"]=='\"After lunc:\"', \"Time\"]=\"16:00\"\n",
    "data.loc[data[\"Time\"]=='15:00 or 15:45', \"Time\"]=\"15:00\"\n",
    "data.loc[data[\"Time\"]=='>17:00', \"Time\"]=\"17:00\"\n",
    "data.loc[data[\"Time\"]=='19:00 / 20:00', \"Time\"]=\"19:00\"\n",
    "data.loc[data[\"Time\"]==\"12:45 / 13:45\", \"Time\"]=\"13:00\"\n",
    "data.loc[data[\"Time\"]==\"14:00 - 15:00\", \"Time\"]=\"14:00\"\n",
    "data.loc[data[\"Time\"]==\"nig:t\", \"Time\"]=\"20:00\"\n",
    "data.loc[data[\"Time\"]==\"03:45 - 04:00\", \"Time\"]=\"03:00\"\n",
    "data.loc[data[\"Time\"]==\"Late nig:t\", \"Time\"]=\"23:00\"\n",
    "data.loc[data[\"Time\"]==\"10:30 or 13:30\", \"Time\"]=\"12:00\"\n",
    "data.loc[data[\"Time\"]==\"15:00j\", \"Time\"]=\"15:00\"\n",
    "data.loc[data[\"Time\"]==\"Midday.\", \"Time\"]=\"12:00\"\n",
    "data.loc[data[\"Time\"]=='\"After dark\"', \"Time\"]=\"23:00\"\n",
    "data.loc[data[\"Time\"]=='10:00 or 14:00\"', \"Time\"]=\"23:00\"\n",
    "data.loc[data[\"Time\"]==\"2 :rs before sunset\", \"Time\"]=\"16:00\"\n",
    "data.loc[data[\"Time\"]==\"18:15 to 21:30\", \"Time\"]=\"16:00\"\n",
    "data.loc[data[\"Time\"]==\"1500\", \"Time\"]=\"15:00\"\n",
    "data.loc[data[\"Time\"]==\"A.M.\", \"Time\"]=\"09:00\"\n",
    "data.loc[data[\"Time\"]==\"Morning \", \"Time\"]=\"09:00\"\n",
    "data.loc[data[\"Time\"]==\"07:00 - 08:00\", \"Time\"]=\"07:00\"\n",
    "data.loc[data[\"Time\"]==\"  \", \"Time\"]=\"unknown\"\n",
    "data.loc[data[\"Time\"]=='\"Evening\"', \"Time\"]=\"unknown\"\n",
    "data.loc[data[\"Time\"]==\"11:30 \", \"Time\"]=\"11:30\"\n",
    "data.loc[data[\"Time\"]==' ', \"Time\"]=\"unknown\"\n",
    "data.loc[data[\"Time\"]==\"Nig:tfall\", \"Time\"]=\"21:00\"\n",
    "data.loc[data[\"Time\"]==\"09:30 / 15:30\", \"Time\"]=\"12:00\"\n",
    "data.loc[data[\"Time\"]==\"12:00 to 14:00\", \"Time\"]=\"13:00\"\n",
    "data.loc[data[\"Time\"]==\"10:00 or 14:00\", \"Time\"]=\"13:00\"\n",
    "data.loc[data[\"Time\"]=='\"s:ortly before dusk\"', \"Time\"]=\"20:00\"\n",
    "data.loc[data[\"Time\"]==\">17:30\", \"Time\"]=\"18:00\"\n",
    "data.loc[data[\"Time\"]==\">14:30\", \"Time\"]=\"15:00\"\n",
    "data.loc[data[\"Time\"]==\"Between 11:00 & 12:00\", \"Time\"]=\"11:00\"\n",
    "data.loc[data[\"Time\"]==\"After 04:00\", \"Time\"]=\"05:00\"\n",
    "data.loc[data[\"Time\"]==\"11:01 -time of s:ip sinking\", \"Time\"]=\"11:00\"\n",
    "data.loc[data[\"Time\"]==\"S:ip aban-doned at 03:10\", \"Time\"]=\"03:00\"\n",
    "data.loc[data[\"Time\"]==\"After dusk\", \"Time\"]=\"22:00\"\n",
    "data.loc[data[\"Time\"]==\"FATAL  (Wire netting installed at local beac:es after t:is incident.)\", \"Time\"]=\"unknown\"\n",
    "data.loc[data[\"Time\"]==\"After midnig:t\", \"Time\"]=\"01:00\"\n",
    "data.loc[data[\"Time\"]==\"Late afternon\", \"Time\"]=\"18:00\"\n",
    "data.loc[data[\"Time\"]=='\"Early evening\"', \"Time\"]=\"20:00\"\n",
    "data.loc[data[\"Time\"]==\"Late Afternoon\", \"Time\"]=\"18:00\"\n",
    "data.loc[data[\"Time\"]==\"   \", \"Time\"]=\"unknown\"\n",
    "data.loc[data[\"Time\"]==\"Before daybreak\", \"Time\"]=\"19:00\"\n",
    "data.loc[data[\"Time\"]==\"dusk\", \"Time\"]=\"20:00\"\n",
    "data.loc[data[\"Time\"]==\"Before 10:30\", \"Time\"]=\"20:00\"\n",
    "data.loc[data[\"Time\"]==\"06:00 -- 07:00\", \"Time\"]=\"06:00\"\n",
    "data.loc[data[\"Time\"]==\"17:00-18:00\", \"Time\"]=\"17:00\"\n",
    "data.loc[data[\"Time\"]==\"19:00-20:00\", \"Time\"]=\"19:00\"\n",
    "data.loc[data[\"Time\"]==\"1300\", \"Time\"]=\"13:00\"\n",
    "data.loc[data[\"Time\"]==\"11:115\", \"Time\"]=\"11:00\"\n",
    "data.loc[data[\"Time\"]==\"13:345\", \"Time\"]=\"11:00\"\n",
    "data.loc[data[\"Time\"]==\"08:00 / 09:30\", \"Time\"]=\"08:00\"\n",
    "data.loc[data[\"Time\"]==\" 14:00\", \"Time\"]=\"14:00\""
   ]
  },
  {
   "cell_type": "code",
   "execution_count": 389,
   "metadata": {},
   "outputs": [
    {
     "data": {
      "text/plain": [
       "array([<class 'str'>], dtype=object)"
      ]
     },
     "execution_count": 389,
     "metadata": {},
     "output_type": "execute_result"
    }
   ],
   "source": [
    "#note to self, hubieses empezado quitando valores especiales/espaciosR.L y te hubieses ahorrado la mitad de este chorizo :,)\n",
    "#data[\"Time\"].unique()\n",
    "get_unique_dtypes(data, \"Time\")"
   ]
  },
  {
   "cell_type": "code",
   "execution_count": 390,
   "metadata": {},
   "outputs": [],
   "source": [
    "data[\"Time_groups\"] = data['Time'].apply(time_of_day)"
   ]
  },
  {
   "cell_type": "code",
   "execution_count": 391,
   "metadata": {},
   "outputs": [
    {
     "data": {
      "text/html": [
       "<div>\n",
       "<style scoped>\n",
       "    .dataframe tbody tr th:only-of-type {\n",
       "        vertical-align: middle;\n",
       "    }\n",
       "\n",
       "    .dataframe tbody tr th {\n",
       "        vertical-align: top;\n",
       "    }\n",
       "\n",
       "    .dataframe thead th {\n",
       "        text-align: right;\n",
       "    }\n",
       "</style>\n",
       "<table border=\"1\" class=\"dataframe\">\n",
       "  <thead>\n",
       "    <tr style=\"text-align: right;\">\n",
       "      <th></th>\n",
       "      <th>Time_groups</th>\n",
       "      <th>Count</th>\n",
       "    </tr>\n",
       "  </thead>\n",
       "  <tbody>\n",
       "    <tr>\n",
       "      <th>0</th>\n",
       "      <td>No information</td>\n",
       "      <td>3378</td>\n",
       "    </tr>\n",
       "    <tr>\n",
       "      <th>1</th>\n",
       "      <td>Afternoon</td>\n",
       "      <td>1702</td>\n",
       "    </tr>\n",
       "    <tr>\n",
       "      <th>2</th>\n",
       "      <td>Morning</td>\n",
       "      <td>1124</td>\n",
       "    </tr>\n",
       "    <tr>\n",
       "      <th>3</th>\n",
       "      <td>Night</td>\n",
       "      <td>102</td>\n",
       "    </tr>\n",
       "  </tbody>\n",
       "</table>\n",
       "</div>"
      ],
      "text/plain": [
       "      Time_groups  Count\n",
       "0  No information   3378\n",
       "1       Afternoon   1702\n",
       "2         Morning   1124\n",
       "3           Night    102"
      ]
     },
     "execution_count": 391,
     "metadata": {},
     "output_type": "execute_result"
    }
   ],
   "source": [
    "col_unique_counts(data, \"Time_groups\")"
   ]
  },
  {
   "attachments": {},
   "cell_type": "markdown",
   "metadata": {},
   "source": [
    "Limpieza especies "
   ]
  },
  {
   "cell_type": "code",
   "execution_count": 392,
   "metadata": {},
   "outputs": [],
   "source": [
    "data[\"Species\"]=data[\"Species\"].fillna(\"unknown\")"
   ]
  },
  {
   "attachments": {},
   "cell_type": "markdown",
   "metadata": {},
   "source": [
    "Limpieza \"Age\""
   ]
  },
  {
   "cell_type": "code",
   "execution_count": 393,
   "metadata": {},
   "outputs": [],
   "source": [
    "#quitamos espacios y caracteres especiales\n",
    "data[\"Age\"] = data[\"Age\"].str.replace(r'[^\\w\\s]|[\\&\\(\\)\\.\\\"&gt;&lt;\\?\\']', '', regex=True)\n"
   ]
  },
  {
   "cell_type": "code",
   "execution_count": 394,
   "metadata": {},
   "outputs": [],
   "source": [
    "data[\"Age\"] = data[\"Age\"].str.rstrip()\n",
    "data[\"Age\"] = data[\"Age\"].str.lstrip()\n"
   ]
  },
  {
   "cell_type": "code",
   "execution_count": 395,
   "metadata": {},
   "outputs": [],
   "source": [
    "data[\"Age\"]=data[\"Age\"].fillna(\"0\")"
   ]
  },
  {
   "cell_type": "code",
   "execution_count": 396,
   "metadata": {},
   "outputs": [],
   "source": [
    "data.loc[data[\"Age\"]==\"Teen\", \"Age\"]=\"17\"\n",
    "data.loc[data[\"Age\"]==\"40s\", \"Age\"]=\"40\"\n",
    "data.loc[data[\"Age\"]==\"60s\", \"Age\"]=\"60\"\n",
    "data.loc[data[\"Age\"]==\"18 monhs\", \"Age\"]=\"1\"\n",
    "data.loc[data[\"Age\"]==\"een\", \"Age\"]=\"17\"\n",
    "data.loc[data[\"Age\"]==\"18 or 20\", \"Age\"]=\"20\"\n",
    "data.loc[data[\"Age\"]==\"30s\", \"Age\"]=\"30\" #mental note: se podria haber hecho algo para quitar toda las \"s\"\n",
    "data.loc[data[\"Age\"]==\"50s\", \"Age\"]=\"50\"\n",
    "data.loc[data[\"Age\"]==\"28  26\", \"Age\"]=\"27\"\n",
    "data.loc[data[\"Age\"]==\"12 or 13\", \"Age\"]=\"13\"\n",
    "data.loc[data[\"Age\"]==\"46  34\", \"Age\"]=\"40\"\n",
    "data.loc[data[\"Age\"]==\"28 23  30\", \"Age\"]=\"25\"\n",
    "data.loc[data[\"Age\"]==\"36  26\", \"Age\"]=\"30\"\n",
    "data.loc[data[\"Age\"]==\"8 or 10\", \"Age\"]=\"9\"\n",
    "data.loc[data[\"Age\"]==\"30 or 36\", \"Age\"]=\"32\"\n",
    "data.loc[data[\"Age\"]==\"33 or 37\", \"Age\"]=\"35\"\n",
    "data.loc[data[\"Age\"]==\"mid30s\", \"Age\"]=\"35\"\n",
    "data.loc[data[\"Age\"]==\"23  20\", \"Age\"]=\"21\"\n",
    "data.loc[data[\"Age\"]==\"7          31\", \"Age\"]=\"31\"\n",
    "data.loc[data[\"Age\"]==\"32  30\", \"Age\"]=\"31\"\n",
    "data.loc[data[\"Age\"]==\"16 o 18\", \"Age\"]=\"17\"\n",
    "data.loc[data[\"Age\"]==\"Edery\", \"Age\"]=\"70\"\n",
    "data.loc[data[\"Age\"]==\"mid20s\", \"Age\"]=\"25\"\n",
    "data.loc[data[\"Age\"]==\"Ca 33\", \"Age\"]=\"33\"\n",
    "data.loc[data[\"Age\"]==\"21 or 26\", \"Age\"]=\"23\"\n",
    "data.loc[data[\"Age\"]==\"18 o 22\", \"Age\"]=\"20\"\n",
    "data.loc[data[\"Age\"]==\"9  12\", \"Age\"]=\"12\"\n",
    "data.loc[data[\"Age\"]==\"9 monhs\", \"Age\"]=\"1\"\n",
    "data.loc[data[\"Age\"]==\"25 o 35\", \"Age\"]=\"27\"\n",
    "data.loc[data[\"Age\"]==\"23  26\", \"Age\"]=\"24\"\n",
    "data.loc[data[\"Age\"]==\"33  37\", \"Age\"]=\"35\"\n",
    "data.loc[data[\"Age\"]==\"25 or 28\", \"Age\"]=\"27\"\n",
    "data.loc[data[\"Age\"]==\"37 67 35 27    27\", \"Age\"]=\"40\"\n",
    "data.loc[data[\"Age\"]==\"21 3424  35\", \"Age\"]=\"35\"\n",
    "data.loc[data[\"Age\"]==\"30  32\", \"Age\"]=\"31\"\n",
    "data.loc[data[\"Age\"]==\"50  30\", \"Age\"]=\"40\"\n",
    "data.loc[data[\"Age\"]==\"17  35\", \"Age\"]=\"27\"\n",
    "data.loc[data[\"Age\"]==\"X\", \"Age\"]=\"0\"\n",
    "data.loc[data[\"Age\"]==\"middeae\", \"Age\"]=\"40\"\n",
    "data.loc[data[\"Age\"]==\"13 or 18\", \"Age\"]=\"15\"\n",
    "data.loc[data[\"Age\"]==\"34  19\", \"Age\"]=\"25\"\n",
    "data.loc[data[\"Age\"]==\"33  26\", \"Age\"]=\"28\"\n",
    "data.loc[data[\"Age\"]==\"2 o 3 monhs\", \"Age\"]=\"1\"\n",
    "data.loc[data[\"Age\"]==\"MAKE LINE GREEN\", \"Age\"]=\"0\"\n",
    "data.loc[data[\"Age\"]==\"youn\", \"Age\"]=\"1\"\n",
    "data.loc[data[\"Age\"]==\"7 or 8\", \"Age\"]=\"7\"\n",
    "data.loc[data[\"Age\"]==\"17  16\", \"Age\"]=\"17\"\n",
    "data.loc[data[\"Age\"]==\"F\", \"Age\"]=\"0\"\n",
    "data.loc[data[\"Age\"]==\"Boh 11\", \"Age\"]=\"11\"\n",
    "data.loc[data[\"Age\"]==\"9 or 10\", \"Age\"]=\"9\"\n",
    "data.loc[data[\"Age\"]==\"36  23\", \"Age\"]=\"32\"\n",
    "data.loc[data[\"Age\"]==\"AM\", \"Age\"]=\"0\"\n",
    "data.loc[data[\"Age\"]==\"10 or 12\", \"Age\"]=\"11\"\n",
    "data.loc[data[\"Age\"]==\"31 or 33\", \"Age\"]=\"32\"\n",
    "data.loc[data[\"Age\"]==\"13 or 14\", \"Age\"]=\"13\"\n",
    "data.loc[data[\"Age\"]==\"Teens\", \"Age\"]=\"15\"\n",
    "data.loc[data[\"Age\"]==\"\", \"Age\"]=\"0\"\n",
    "data.loc[data[\"Age\"]==\"adu\", \"Age\"]=\"25\"\n",
    "data.loc[data[\"Age\"]==\"20s\", \"Age\"]=\"25\"\n",
    "#ULTIMA VEZ, la proxima si valor no numerico se considera nulo y ya"
   ]
  },
  {
   "cell_type": "code",
   "execution_count": 397,
   "metadata": {},
   "outputs": [],
   "source": [
    "data[\"Age\"] = pd.to_numeric(data[\"Age\"], errors='coerce').astype(int) #pasamos de STR a Int para separar por grupos de edad"
   ]
  },
  {
   "cell_type": "code",
   "execution_count": 398,
   "metadata": {},
   "outputs": [
    {
     "data": {
      "text/plain": [
       "array([57, 11, 48,  0, 18, 52, 15, 12, 32, 10, 21, 34, 30, 60, 41, 37, 56,\n",
       "       19, 25, 69, 38, 55, 35, 46, 45, 14, 40, 28, 20, 54, 24, 26, 49, 22,\n",
       "        7, 31, 17, 33, 13, 42,  3,  8, 50, 16, 82, 73, 29, 68, 51, 39, 58,\n",
       "       47, 61, 65, 36, 66, 43,  9, 72, 59,  6, 27, 64, 23, 71, 44, 62, 63,\n",
       "       70,  1, 53, 77, 74,  5, 86, 84, 75, 87, 67, 81, 78,  2])"
      ]
     },
     "execution_count": 398,
     "metadata": {},
     "output_type": "execute_result"
    }
   ],
   "source": [
    "data[\"Age\"].unique()"
   ]
  },
  {
   "cell_type": "code",
   "execution_count": 399,
   "metadata": {},
   "outputs": [],
   "source": [
    "data[\"Age\"]=data[\"Age\"].fillna(\"0\")"
   ]
  },
  {
   "cell_type": "code",
   "execution_count": 400,
   "metadata": {},
   "outputs": [
    {
     "data": {
      "text/plain": [
       "array([<class 'int'>], dtype=object)"
      ]
     },
     "execution_count": 400,
     "metadata": {},
     "output_type": "execute_result"
    }
   ],
   "source": [
    "get_unique_dtypes(data, \"Age\")"
   ]
  },
  {
   "cell_type": "code",
   "execution_count": 401,
   "metadata": {},
   "outputs": [
    {
     "name": "stdout",
     "output_type": "stream",
     "text": [
      "<class 'pandas.core.frame.DataFrame'>\n",
      "RangeIndex: 6306 entries, 0 to 6305\n",
      "Data columns (total 23 columns):\n",
      " #   Column                  Non-Null Count  Dtype  \n",
      "---  ------                  --------------  -----  \n",
      " 0   Case_Number             6304 non-null   object \n",
      " 1   Date                    6296 non-null   object \n",
      " 2   Year                    6294 non-null   float64\n",
      " 3   Type                    6292 non-null   object \n",
      " 4   Country                 6246 non-null   object \n",
      " 5   Area                    5841 non-null   object \n",
      " 6   Location                5756 non-null   object \n",
      " 7   Activity                5752 non-null   object \n",
      " 8   Name                    6086 non-null   object \n",
      " 9   Sex                     5731 non-null   object \n",
      " 10  Age                     6306 non-null   int32  \n",
      " 11  Injury                  6268 non-null   object \n",
      " 12  Fatal_(Y/N)             5758 non-null   object \n",
      " 13  Time                    6306 non-null   object \n",
      " 14  Species                 6306 non-null   object \n",
      " 15  Investigator_Or_Source  6279 non-null   object \n",
      " 16  Pdf                     6296 non-null   object \n",
      " 17  Href_Formula            6295 non-null   object \n",
      " 18  Href                    6296 non-null   object \n",
      " 19  Case_Number_1           6296 non-null   object \n",
      " 20  Case_Number_2           6296 non-null   object \n",
      " 21  Original_Order          6303 non-null   float64\n",
      " 22  Time_groups             6306 non-null   object \n",
      "dtypes: float64(2), int32(1), object(20)\n",
      "memory usage: 1.1+ MB\n"
     ]
    }
   ],
   "source": [
    "data[\"Age\"] = data[\"Age\"].astype(int)\n",
    "data.info()"
   ]
  },
  {
   "cell_type": "code",
   "execution_count": 402,
   "metadata": {},
   "outputs": [],
   "source": [
    "data[\"Age_Groups\"] = data[\"Age\"].apply(age_groups,\"Age\")"
   ]
  },
  {
   "cell_type": "code",
   "execution_count": 403,
   "metadata": {},
   "outputs": [
    {
     "data": {
      "text/html": [
       "<div>\n",
       "<style scoped>\n",
       "    .dataframe tbody tr th:only-of-type {\n",
       "        vertical-align: middle;\n",
       "    }\n",
       "\n",
       "    .dataframe tbody tr th {\n",
       "        vertical-align: top;\n",
       "    }\n",
       "\n",
       "    .dataframe thead th {\n",
       "        text-align: right;\n",
       "    }\n",
       "</style>\n",
       "<table border=\"1\" class=\"dataframe\">\n",
       "  <thead>\n",
       "    <tr style=\"text-align: right;\">\n",
       "      <th></th>\n",
       "      <th>Case_Number</th>\n",
       "      <th>Date</th>\n",
       "      <th>Year</th>\n",
       "      <th>Type</th>\n",
       "      <th>Country</th>\n",
       "      <th>Area</th>\n",
       "      <th>Location</th>\n",
       "      <th>Activity</th>\n",
       "      <th>Name</th>\n",
       "      <th>Sex</th>\n",
       "      <th>Age</th>\n",
       "      <th>Injury</th>\n",
       "      <th>Fatal_(Y/N)</th>\n",
       "      <th>Time</th>\n",
       "      <th>Species</th>\n",
       "      <th>Investigator_Or_Source</th>\n",
       "      <th>Pdf</th>\n",
       "      <th>Href_Formula</th>\n",
       "      <th>Href</th>\n",
       "      <th>Case_Number_1</th>\n",
       "      <th>Case_Number_2</th>\n",
       "      <th>Original_Order</th>\n",
       "      <th>Time_groups</th>\n",
       "      <th>Age_Groups</th>\n",
       "    </tr>\n",
       "  </thead>\n",
       "  <tbody>\n",
       "    <tr>\n",
       "      <th>0</th>\n",
       "      <td>2018.06.25</td>\n",
       "      <td>25-Jun-2018</td>\n",
       "      <td>2018.0</td>\n",
       "      <td>Boating</td>\n",
       "      <td>USA</td>\n",
       "      <td>California</td>\n",
       "      <td>Oceanside, San Diego County</td>\n",
       "      <td>Paddling</td>\n",
       "      <td>Julie Wolfe</td>\n",
       "      <td>F</td>\n",
       "      <td>57</td>\n",
       "      <td>No injury to occupant, outrigger canoe and pad...</td>\n",
       "      <td>N</td>\n",
       "      <td>18:00</td>\n",
       "      <td>White shark</td>\n",
       "      <td>R. Collier, GSAF</td>\n",
       "      <td>2018.06.25-Wolfe.pdf</td>\n",
       "      <td>http://sharkattackfile.net/spreadsheets/pdf_di...</td>\n",
       "      <td>http://sharkattackfile.net/spreadsheets/pdf_di...</td>\n",
       "      <td>2018.06.25</td>\n",
       "      <td>2018.06.25</td>\n",
       "      <td>6303.0</td>\n",
       "      <td>Afternoon</td>\n",
       "      <td>adult</td>\n",
       "    </tr>\n",
       "    <tr>\n",
       "      <th>1</th>\n",
       "      <td>2018.06.18</td>\n",
       "      <td>18-Jun-2018</td>\n",
       "      <td>2018.0</td>\n",
       "      <td>Unprovoked</td>\n",
       "      <td>USA</td>\n",
       "      <td>Georgia</td>\n",
       "      <td>St. Simon Island, Glynn County</td>\n",
       "      <td>Standing</td>\n",
       "      <td>AdysonMcNeely</td>\n",
       "      <td>F</td>\n",
       "      <td>11</td>\n",
       "      <td>Minor injury to left thigh</td>\n",
       "      <td>N</td>\n",
       "      <td>14:30</td>\n",
       "      <td>unknown</td>\n",
       "      <td>K.McMurray, TrackingSharks.com</td>\n",
       "      <td>2018.06.18-McNeely.pdf</td>\n",
       "      <td>http://sharkattackfile.net/spreadsheets/pdf_di...</td>\n",
       "      <td>http://sharkattackfile.net/spreadsheets/pdf_di...</td>\n",
       "      <td>2018.06.18</td>\n",
       "      <td>2018.06.18</td>\n",
       "      <td>6302.0</td>\n",
       "      <td>Afternoon</td>\n",
       "      <td>kid</td>\n",
       "    </tr>\n",
       "    <tr>\n",
       "      <th>2</th>\n",
       "      <td>2018.06.09</td>\n",
       "      <td>09-Jun-2018</td>\n",
       "      <td>2018.0</td>\n",
       "      <td>Invalid</td>\n",
       "      <td>USA</td>\n",
       "      <td>Hawaii</td>\n",
       "      <td>Habush, Oahu</td>\n",
       "      <td>Surfing</td>\n",
       "      <td>John Denges</td>\n",
       "      <td>M</td>\n",
       "      <td>48</td>\n",
       "      <td>Injury to left lower leg from surfboard skeg</td>\n",
       "      <td>N</td>\n",
       "      <td>07:45</td>\n",
       "      <td>unknown</td>\n",
       "      <td>K.McMurray, TrackingSharks.com</td>\n",
       "      <td>2018.06.09-Denges.pdf</td>\n",
       "      <td>http://sharkattackfile.net/spreadsheets/pdf_di...</td>\n",
       "      <td>http://sharkattackfile.net/spreadsheets/pdf_di...</td>\n",
       "      <td>2018.06.09</td>\n",
       "      <td>2018.06.09</td>\n",
       "      <td>6301.0</td>\n",
       "      <td>Morning</td>\n",
       "      <td>adult</td>\n",
       "    </tr>\n",
       "    <tr>\n",
       "      <th>3</th>\n",
       "      <td>2018.06.08</td>\n",
       "      <td>08-Jun-2018</td>\n",
       "      <td>2018.0</td>\n",
       "      <td>Unprovoked</td>\n",
       "      <td>AUSTRALIA</td>\n",
       "      <td>New South Wales</td>\n",
       "      <td>Arrawarra Headland</td>\n",
       "      <td>Surfing</td>\n",
       "      <td>male</td>\n",
       "      <td>M</td>\n",
       "      <td>0</td>\n",
       "      <td>Minor injury to lower leg</td>\n",
       "      <td>N</td>\n",
       "      <td>unknown</td>\n",
       "      <td>2 m shark</td>\n",
       "      <td>B. Myatt, GSAF</td>\n",
       "      <td>2018.06.08-Arrawarra.pdf</td>\n",
       "      <td>http://sharkattackfile.net/spreadsheets/pdf_di...</td>\n",
       "      <td>http://sharkattackfile.net/spreadsheets/pdf_di...</td>\n",
       "      <td>2018.06.08</td>\n",
       "      <td>2018.06.08</td>\n",
       "      <td>6300.0</td>\n",
       "      <td>No information</td>\n",
       "      <td>No information</td>\n",
       "    </tr>\n",
       "    <tr>\n",
       "      <th>4</th>\n",
       "      <td>2018.06.04</td>\n",
       "      <td>04-Jun-2018</td>\n",
       "      <td>2018.0</td>\n",
       "      <td>Provoked</td>\n",
       "      <td>MEXICO</td>\n",
       "      <td>Colima</td>\n",
       "      <td>La Ticla</td>\n",
       "      <td>Free diving</td>\n",
       "      <td>Gustavo Ramos</td>\n",
       "      <td>M</td>\n",
       "      <td>0</td>\n",
       "      <td>Lacerations to leg &amp; hand shark PROVOKED INCIDENT</td>\n",
       "      <td>N</td>\n",
       "      <td>unknown</td>\n",
       "      <td>Tiger shark, 3m</td>\n",
       "      <td>A .Kipper</td>\n",
       "      <td>2018.06.04-Ramos.pdf</td>\n",
       "      <td>http://sharkattackfile.net/spreadsheets/pdf_di...</td>\n",
       "      <td>http://sharkattackfile.net/spreadsheets/pdf_di...</td>\n",
       "      <td>2018.06.04</td>\n",
       "      <td>2018.06.04</td>\n",
       "      <td>6299.0</td>\n",
       "      <td>No information</td>\n",
       "      <td>No information</td>\n",
       "    </tr>\n",
       "  </tbody>\n",
       "</table>\n",
       "</div>"
      ],
      "text/plain": [
       "  Case_Number         Date    Year        Type    Country             Area   \n",
       "0  2018.06.25  25-Jun-2018  2018.0     Boating        USA       California  \\\n",
       "1  2018.06.18  18-Jun-2018  2018.0  Unprovoked        USA          Georgia   \n",
       "2  2018.06.09  09-Jun-2018  2018.0     Invalid        USA           Hawaii   \n",
       "3  2018.06.08  08-Jun-2018  2018.0  Unprovoked  AUSTRALIA  New South Wales   \n",
       "4  2018.06.04  04-Jun-2018  2018.0    Provoked     MEXICO           Colima   \n",
       "\n",
       "                         Location     Activity            Name Sex  Age   \n",
       "0     Oceanside, San Diego County     Paddling     Julie Wolfe   F   57  \\\n",
       "1  St. Simon Island, Glynn County     Standing  AdysonMcNeely    F   11   \n",
       "2                    Habush, Oahu      Surfing     John Denges   M   48   \n",
       "3              Arrawarra Headland      Surfing            male   M    0   \n",
       "4                        La Ticla  Free diving  Gustavo Ramos    M    0   \n",
       "\n",
       "                                              Injury Fatal_(Y/N)     Time   \n",
       "0  No injury to occupant, outrigger canoe and pad...           N    18:00  \\\n",
       "1                         Minor injury to left thigh           N    14:30   \n",
       "2       Injury to left lower leg from surfboard skeg           N    07:45   \n",
       "3                          Minor injury to lower leg           N  unknown   \n",
       "4  Lacerations to leg & hand shark PROVOKED INCIDENT           N  unknown   \n",
       "\n",
       "           Species          Investigator_Or_Source                       Pdf   \n",
       "0      White shark                R. Collier, GSAF      2018.06.25-Wolfe.pdf  \\\n",
       "1          unknown  K.McMurray, TrackingSharks.com    2018.06.18-McNeely.pdf   \n",
       "2          unknown  K.McMurray, TrackingSharks.com     2018.06.09-Denges.pdf   \n",
       "3        2 m shark                  B. Myatt, GSAF  2018.06.08-Arrawarra.pdf   \n",
       "4  Tiger shark, 3m                       A .Kipper      2018.06.04-Ramos.pdf   \n",
       "\n",
       "                                        Href_Formula   \n",
       "0  http://sharkattackfile.net/spreadsheets/pdf_di...  \\\n",
       "1  http://sharkattackfile.net/spreadsheets/pdf_di...   \n",
       "2  http://sharkattackfile.net/spreadsheets/pdf_di...   \n",
       "3  http://sharkattackfile.net/spreadsheets/pdf_di...   \n",
       "4  http://sharkattackfile.net/spreadsheets/pdf_di...   \n",
       "\n",
       "                                                Href Case_Number_1   \n",
       "0  http://sharkattackfile.net/spreadsheets/pdf_di...    2018.06.25  \\\n",
       "1  http://sharkattackfile.net/spreadsheets/pdf_di...    2018.06.18   \n",
       "2  http://sharkattackfile.net/spreadsheets/pdf_di...    2018.06.09   \n",
       "3  http://sharkattackfile.net/spreadsheets/pdf_di...    2018.06.08   \n",
       "4  http://sharkattackfile.net/spreadsheets/pdf_di...    2018.06.04   \n",
       "\n",
       "  Case_Number_2  Original_Order     Time_groups      Age_Groups  \n",
       "0    2018.06.25          6303.0       Afternoon           adult  \n",
       "1    2018.06.18          6302.0       Afternoon             kid  \n",
       "2    2018.06.09          6301.0         Morning           adult  \n",
       "3    2018.06.08          6300.0  No information  No information  \n",
       "4    2018.06.04          6299.0  No information  No information  "
      ]
     },
     "execution_count": 403,
     "metadata": {},
     "output_type": "execute_result"
    }
   ],
   "source": [
    "data.head()"
   ]
  },
  {
   "attachments": {},
   "cell_type": "markdown",
   "metadata": {},
   "source": [
    "Limpieza Columna sex "
   ]
  },
  {
   "cell_type": "code",
   "execution_count": 404,
   "metadata": {},
   "outputs": [],
   "source": [
    "data.loc[data[\"Sex\"] == \"lli\", \"Sex\"]=\"M\" "
   ]
  },
  {
   "cell_type": "code",
   "execution_count": 405,
   "metadata": {},
   "outputs": [],
   "source": [
    "data.loc[data[\"Sex\"]== \"M \", \"Sex\"]=\"M\""
   ]
  },
  {
   "cell_type": "code",
   "execution_count": 406,
   "metadata": {},
   "outputs": [],
   "source": [
    "data.loc[data[\"Sex\"]==\"N\", \"Sex\" ]=\"M\""
   ]
  },
  {
   "cell_type": "code",
   "execution_count": 407,
   "metadata": {},
   "outputs": [],
   "source": [
    "data.loc[data[\"Sex\"]==\".\", \"Sex\"]=\"unknown\""
   ]
  },
  {
   "cell_type": "code",
   "execution_count": 408,
   "metadata": {},
   "outputs": [],
   "source": [
    "data[\"Sex\"]=data[\"Sex\"].fillna(\"unknown\")"
   ]
  },
  {
   "cell_type": "code",
   "execution_count": 409,
   "metadata": {},
   "outputs": [
    {
     "data": {
      "text/plain": [
       "array(['F', 'M', 'unknown'], dtype=object)"
      ]
     },
     "execution_count": 409,
     "metadata": {},
     "output_type": "execute_result"
    }
   ],
   "source": [
    "data[\"Sex\"].unique()"
   ]
  },
  {
   "attachments": {},
   "cell_type": "markdown",
   "metadata": {},
   "source": [
    "Limpieza Activity"
   ]
  },
  {
   "cell_type": "code",
   "execution_count": 410,
   "metadata": {},
   "outputs": [
    {
     "data": {
      "text/plain": [
       "Activity                  8.79\n",
       "Location                  8.72\n",
       "Fatal_(Y/N)               8.69\n",
       "Area                      7.37\n",
       "Name                      3.49\n",
       "Country                   0.95\n",
       "Injury                    0.60\n",
       "Investigator_Or_Source    0.43\n",
       "Type                      0.22\n",
       "Year                      0.19\n",
       "Href_Formula              0.17\n",
       "Case_Number_2             0.16\n",
       "Date                      0.16\n",
       "Pdf                       0.16\n",
       "Href                      0.16\n",
       "Case_Number_1             0.16\n",
       "Original_Order            0.05\n",
       "Case_Number               0.03\n",
       "dtype: float64"
      ]
     },
     "execution_count": 410,
     "metadata": {},
     "output_type": "execute_result"
    }
   ],
   "source": [
    "nancolsper(data) #vamos a rellenar por la moda porque no tiene tanto caso, no necesitamos tanto detalle ni los valores nulos son demasiado representativos como para introducir sesgo."
   ]
  },
  {
   "cell_type": "code",
   "execution_count": 411,
   "metadata": {},
   "outputs": [],
   "source": [
    "#data[\"Activity\"].value_counts()"
   ]
  },
  {
   "cell_type": "code",
   "execution_count": 412,
   "metadata": {},
   "outputs": [
    {
     "data": {
      "text/plain": [
       "0    Surfing\n",
       "Name: Activity, dtype: object"
      ]
     },
     "execution_count": 412,
     "metadata": {},
     "output_type": "execute_result"
    }
   ],
   "source": [
    "activitymode = data[\"Activity\"].mode()\n",
    "activitymode"
   ]
  },
  {
   "cell_type": "code",
   "execution_count": 413,
   "metadata": {},
   "outputs": [],
   "source": [
    "#data[\"Activity\"]=data[\"Activity\"].fillna(activitymode) #esta me funciono pero luego no for some reason\n",
    "data[\"Activity\"].fillna(\"Surfing\", inplace=True)"
   ]
  },
  {
   "cell_type": "code",
   "execution_count": 414,
   "metadata": {},
   "outputs": [
    {
     "data": {
      "text/plain": [
       "Location                  8.72\n",
       "Fatal_(Y/N)               8.69\n",
       "Area                      7.37\n",
       "Name                      3.49\n",
       "Country                   0.95\n",
       "Injury                    0.60\n",
       "Investigator_Or_Source    0.43\n",
       "Type                      0.22\n",
       "Year                      0.19\n",
       "Href_Formula              0.17\n",
       "Case_Number_2             0.16\n",
       "Date                      0.16\n",
       "Pdf                       0.16\n",
       "Href                      0.16\n",
       "Case_Number_1             0.16\n",
       "Original_Order            0.05\n",
       "Case_Number               0.03\n",
       "dtype: float64"
      ]
     },
     "execution_count": 414,
     "metadata": {},
     "output_type": "execute_result"
    }
   ],
   "source": [
    "nancolsper(data)"
   ]
  },
  {
   "attachments": {},
   "cell_type": "markdown",
   "metadata": {},
   "source": [
    "Limpieza Location"
   ]
  },
  {
   "cell_type": "code",
   "execution_count": 415,
   "metadata": {},
   "outputs": [],
   "source": [
    "#Aquí no tiene tanto sentido llenar con modas/medias porque este dato se entrelaza con country y area. Mejor llenamos con unknown"
   ]
  },
  {
   "cell_type": "code",
   "execution_count": 416,
   "metadata": {},
   "outputs": [],
   "source": [
    "data.loc[data[[\"Country\", \"Area\", \"Location\"]].isna().all(axis=1), [\"Country\", \"Area\", \"Location\"]] = \"unknown\""
   ]
  },
  {
   "cell_type": "code",
   "execution_count": 417,
   "metadata": {},
   "outputs": [],
   "source": [
    "data.loc[data[[\"Area\", \"Location\"]].isna().all(axis=1), [ \"Area\", \"Location\"]] = \"unknown\""
   ]
  },
  {
   "cell_type": "code",
   "execution_count": 418,
   "metadata": {},
   "outputs": [],
   "source": [
    "#data.loc[data[[\"Country\", \"Location\"]].isna().all(axis=1), [ \"Country\", \"Location\"]] = \"unknown\""
   ]
  },
  {
   "cell_type": "code",
   "execution_count": 419,
   "metadata": {},
   "outputs": [],
   "source": [
    "data[\"Location\"]=data[\"Location\"].fillna(\"unknown\")"
   ]
  },
  {
   "cell_type": "code",
   "execution_count": 420,
   "metadata": {},
   "outputs": [],
   "source": [
    "#data.loc[(data[\"Country\"].isna()) & (data[\"Area\"].notna())]"
   ]
  },
  {
   "cell_type": "code",
   "execution_count": 421,
   "metadata": {},
   "outputs": [],
   "source": [
    "data.iloc[2950,4]=\"England\"\n",
    "data.iloc[3381,4]=\"Saint Kitts & Nevis\"\n",
    "data.iloc[4260,4]=\"Madagascar\"\n",
    "data.iloc[4012,4]=\"Australia\"\n",
    "data.iloc[4225,4]=\"India\"\n",
    "data.iloc[4492,4]=\"Costa Rica\"\n",
    "data.iloc[4706,4]=\"Virgin Islands\"\n",
    "data.iloc[5014,4]=\"France\"\n",
    "data.iloc[5736,4]=\"USA\"\n",
    "data.iloc[5802,4]=\"Australia\"\n",
    "data.iloc[6131,4]=\"St Helena\"\n",
    "data.iloc[6169,4]=\"Italy\"\n",
    "data.iloc[6171,4]=\"Italy\""
   ]
  },
  {
   "cell_type": "code",
   "execution_count": 422,
   "metadata": {},
   "outputs": [],
   "source": [
    "data.iloc[3599,4]=\"USA\"\n",
    "data.iloc[4633,4]=\"Hong Kong\"\n",
    "data.iloc[5804,4]=\"USA\"\n",
    "data.iloc[6149,4]=\"Australia\"\n",
    "data.iloc[6200,4]=\"India\""
   ]
  },
  {
   "cell_type": "code",
   "execution_count": 423,
   "metadata": {},
   "outputs": [],
   "source": [
    "data[\"Country\"]=data[\"Country\"].fillna(\"unknown\")"
   ]
  },
  {
   "cell_type": "code",
   "execution_count": 424,
   "metadata": {},
   "outputs": [],
   "source": [
    "data[\"Country\"] = data[\"Country\"].str.replace(r'[^\\w\\s]|[\\&\\(\\)\\.\\\"&gt;&lt;\\?\\']', '', regex=True)"
   ]
  },
  {
   "cell_type": "code",
   "execution_count": 425,
   "metadata": {},
   "outputs": [],
   "source": [
    "data[\"Country\"] = data[\"Country\"].str.strip().str.capitalize().str.title()"
   ]
  },
  {
   "cell_type": "code",
   "execution_count": 426,
   "metadata": {},
   "outputs": [],
   "source": [
    "data[\"Area\"] = data[\"Area\"].fillna(data[\"Location\"])"
   ]
  },
  {
   "cell_type": "code",
   "execution_count": 427,
   "metadata": {},
   "outputs": [
    {
     "data": {
      "text/plain": [
       "Fatal_(Y/N)               548\n",
       "Name                      220\n",
       "Injury                     38\n",
       "Investigator_Or_Source     27\n",
       "Type                       14\n",
       "Year                       12\n",
       "Href_Formula               11\n",
       "Date                       10\n",
       "Pdf                        10\n",
       "Href                       10\n",
       "Case_Number_1              10\n",
       "Case_Number_2              10\n",
       "Original_Order              3\n",
       "Case_Number                 2\n",
       "dtype: int64"
      ]
     },
     "execution_count": 427,
     "metadata": {},
     "output_type": "execute_result"
    }
   ],
   "source": [
    "nancols(data)"
   ]
  },
  {
   "attachments": {},
   "cell_type": "markdown",
   "metadata": {},
   "source": [
    "Limpieza FATAL(Y/N) "
   ]
  },
  {
   "cell_type": "code",
   "execution_count": 428,
   "metadata": {},
   "outputs": [
    {
     "data": {
      "text/plain": [
       "array(['N', 'Y', nan, 'M', 'UNKNOWN', '2017', ' N', 'N ', 'y'],\n",
       "      dtype=object)"
      ]
     },
     "execution_count": 428,
     "metadata": {},
     "output_type": "execute_result"
    }
   ],
   "source": [
    "data[\"Fatal_(Y/N)\"].unique()"
   ]
  },
  {
   "cell_type": "code",
   "execution_count": 429,
   "metadata": {},
   "outputs": [],
   "source": [
    "data.loc[(data[\"Fatal_(Y/N)\"].isna()) & (data[\"Injury\"] == \"FATAL\"), \"Fatal_(Y/N)\"] = \"Y\""
   ]
  },
  {
   "cell_type": "code",
   "execution_count": 430,
   "metadata": {},
   "outputs": [],
   "source": [
    "data.loc[data[\"Fatal_(Y/N)\"] == 'M', \"Fatal_(Y/N)\"] = \"N\" #injury no parece indicar que murió, ponemos no"
   ]
  },
  {
   "cell_type": "code",
   "execution_count": 431,
   "metadata": {},
   "outputs": [],
   "source": [
    "data.loc[data[\"Fatal_(Y/N)\"] == \"2017\", \"Fatal_(Y/N)\"]=\"N\""
   ]
  },
  {
   "cell_type": "code",
   "execution_count": 432,
   "metadata": {},
   "outputs": [],
   "source": [
    "data.loc[data[\"Fatal_(Y/N)\"]==\"y\", \"Fatal_(Y/N)\"]=\"Y\""
   ]
  },
  {
   "cell_type": "code",
   "execution_count": 433,
   "metadata": {},
   "outputs": [],
   "source": [
    "data[\"Fatal_(Y/N)\"] = data[\"Fatal_(Y/N)\"].str.rstrip()\n",
    "data[\"Fatal_(Y/N)\"] = data[\"Fatal_(Y/N)\"].str.lstrip()"
   ]
  },
  {
   "cell_type": "code",
   "execution_count": 434,
   "metadata": {},
   "outputs": [
    {
     "data": {
      "text/plain": [
       "array(['N', 'Y', nan, 'UNKNOWN'], dtype=object)"
      ]
     },
     "execution_count": 434,
     "metadata": {},
     "output_type": "execute_result"
    }
   ],
   "source": [
    "data[\"Fatal_(Y/N)\"].unique()"
   ]
  },
  {
   "cell_type": "code",
   "execution_count": 435,
   "metadata": {},
   "outputs": [],
   "source": [
    "data[\"Fatal_(Y/N)\"]=data[\"Fatal_(Y/N)\"].fillna(\"UNKNOWN\")"
   ]
  },
  {
   "cell_type": "code",
   "execution_count": 436,
   "metadata": {},
   "outputs": [
    {
     "data": {
      "text/plain": [
       "Name                      220\n",
       "Injury                     38\n",
       "Investigator_Or_Source     27\n",
       "Type                       14\n",
       "Year                       12\n",
       "Href_Formula               11\n",
       "Date                       10\n",
       "Pdf                        10\n",
       "Href                       10\n",
       "Case_Number_1              10\n",
       "Case_Number_2              10\n",
       "Original_Order              3\n",
       "Case_Number                 2\n",
       "dtype: int64"
      ]
     },
     "execution_count": 436,
     "metadata": {},
     "output_type": "execute_result"
    }
   ],
   "source": [
    "nancols(data)"
   ]
  },
  {
   "attachments": {},
   "cell_type": "markdown",
   "metadata": {},
   "source": [
    "Limpieza columna \"Name\"/\"Investigator_Or_Source\""
   ]
  },
  {
   "cell_type": "code",
   "execution_count": 437,
   "metadata": {},
   "outputs": [],
   "source": [
    "data[\"Name\"]=data[\"Name\"].fillna(\"unknown\") #no es un dato que nos interese. "
   ]
  },
  {
   "cell_type": "code",
   "execution_count": 438,
   "metadata": {},
   "outputs": [],
   "source": [
    "data[\"Investigator_Or_Source\"]=data[\"Investigator_Or_Source\"].fillna(\"unknown\") "
   ]
  },
  {
   "attachments": {},
   "cell_type": "markdown",
   "metadata": {},
   "source": [
    "Limpieza Columna \"Injury\""
   ]
  },
  {
   "cell_type": "code",
   "execution_count": 439,
   "metadata": {},
   "outputs": [],
   "source": [
    "data.iloc[6134,11]=\"FATAL\""
   ]
  },
  {
   "cell_type": "code",
   "execution_count": 440,
   "metadata": {},
   "outputs": [],
   "source": [
    "data[\"Injury\"]=data[\"Injury\"].fillna(\"unknown\")"
   ]
  },
  {
   "cell_type": "code",
   "execution_count": 441,
   "metadata": {},
   "outputs": [
    {
     "data": {
      "text/plain": [
       "Type              14\n",
       "Year              12\n",
       "Href_Formula      11\n",
       "Date              10\n",
       "Pdf               10\n",
       "Href              10\n",
       "Case_Number_1     10\n",
       "Case_Number_2     10\n",
       "Original_Order     3\n",
       "Case_Number        2\n",
       "dtype: int64"
      ]
     },
     "execution_count": 441,
     "metadata": {},
     "output_type": "execute_result"
    }
   ],
   "source": [
    "nancols(data)"
   ]
  },
  {
   "attachments": {},
   "cell_type": "markdown",
   "metadata": {},
   "source": [
    "Limpieza Columna Type "
   ]
  },
  {
   "cell_type": "code",
   "execution_count": 442,
   "metadata": {},
   "outputs": [
    {
     "data": {
      "text/html": [
       "<div>\n",
       "<style scoped>\n",
       "    .dataframe tbody tr th:only-of-type {\n",
       "        vertical-align: middle;\n",
       "    }\n",
       "\n",
       "    .dataframe tbody tr th {\n",
       "        vertical-align: top;\n",
       "    }\n",
       "\n",
       "    .dataframe thead th {\n",
       "        text-align: right;\n",
       "    }\n",
       "</style>\n",
       "<table border=\"1\" class=\"dataframe\">\n",
       "  <thead>\n",
       "    <tr style=\"text-align: right;\">\n",
       "      <th></th>\n",
       "      <th>Type</th>\n",
       "      <th>Count</th>\n",
       "    </tr>\n",
       "  </thead>\n",
       "  <tbody>\n",
       "    <tr>\n",
       "      <th>0</th>\n",
       "      <td>Unprovoked</td>\n",
       "      <td>4589</td>\n",
       "    </tr>\n",
       "    <tr>\n",
       "      <th>1</th>\n",
       "      <td>Provoked</td>\n",
       "      <td>574</td>\n",
       "    </tr>\n",
       "    <tr>\n",
       "      <th>2</th>\n",
       "      <td>Invalid</td>\n",
       "      <td>547</td>\n",
       "    </tr>\n",
       "    <tr>\n",
       "      <th>3</th>\n",
       "      <td>Sea Disaster</td>\n",
       "      <td>239</td>\n",
       "    </tr>\n",
       "    <tr>\n",
       "      <th>4</th>\n",
       "      <td>Boating</td>\n",
       "      <td>203</td>\n",
       "    </tr>\n",
       "    <tr>\n",
       "      <th>5</th>\n",
       "      <td>Boat</td>\n",
       "      <td>137</td>\n",
       "    </tr>\n",
       "    <tr>\n",
       "      <th>6</th>\n",
       "      <td>Questionable</td>\n",
       "      <td>2</td>\n",
       "    </tr>\n",
       "    <tr>\n",
       "      <th>7</th>\n",
       "      <td>Boatomg</td>\n",
       "      <td>1</td>\n",
       "    </tr>\n",
       "  </tbody>\n",
       "</table>\n",
       "</div>"
      ],
      "text/plain": [
       "           Type  Count\n",
       "0    Unprovoked   4589\n",
       "1      Provoked    574\n",
       "2       Invalid    547\n",
       "3  Sea Disaster    239\n",
       "4       Boating    203\n",
       "5          Boat    137\n",
       "6  Questionable      2\n",
       "7       Boatomg      1"
      ]
     },
     "execution_count": 442,
     "metadata": {},
     "output_type": "execute_result"
    }
   ],
   "source": [
    "col_unique_counts(data, \"Type\")"
   ]
  },
  {
   "cell_type": "code",
   "execution_count": 443,
   "metadata": {},
   "outputs": [],
   "source": [
    "data[\"Type\"] = data[\"Type\"].replace(\"Boating\", \"Boat\")\n",
    "data[\"Type\"] = data[\"Type\"].replace(\"Boatomg\", \"Boat\")\n",
    "data[\"Type\"] = data[\"Type\"].replace(\"Questionable\", \"Invalid\")"
   ]
  },
  {
   "cell_type": "code",
   "execution_count": 444,
   "metadata": {},
   "outputs": [],
   "source": [
    "data[\"Type\"]=data[\"Type\"].fillna(\"Invalid\") "
   ]
  },
  {
   "cell_type": "code",
   "execution_count": 445,
   "metadata": {},
   "outputs": [
    {
     "data": {
      "text/html": [
       "<div>\n",
       "<style scoped>\n",
       "    .dataframe tbody tr th:only-of-type {\n",
       "        vertical-align: middle;\n",
       "    }\n",
       "\n",
       "    .dataframe tbody tr th {\n",
       "        vertical-align: top;\n",
       "    }\n",
       "\n",
       "    .dataframe thead th {\n",
       "        text-align: right;\n",
       "    }\n",
       "</style>\n",
       "<table border=\"1\" class=\"dataframe\">\n",
       "  <thead>\n",
       "    <tr style=\"text-align: right;\">\n",
       "      <th></th>\n",
       "      <th>Type</th>\n",
       "      <th>Count</th>\n",
       "    </tr>\n",
       "  </thead>\n",
       "  <tbody>\n",
       "    <tr>\n",
       "      <th>0</th>\n",
       "      <td>Unprovoked</td>\n",
       "      <td>4589</td>\n",
       "    </tr>\n",
       "    <tr>\n",
       "      <th>1</th>\n",
       "      <td>Provoked</td>\n",
       "      <td>574</td>\n",
       "    </tr>\n",
       "    <tr>\n",
       "      <th>2</th>\n",
       "      <td>Invalid</td>\n",
       "      <td>563</td>\n",
       "    </tr>\n",
       "    <tr>\n",
       "      <th>3</th>\n",
       "      <td>Boat</td>\n",
       "      <td>341</td>\n",
       "    </tr>\n",
       "    <tr>\n",
       "      <th>4</th>\n",
       "      <td>Sea Disaster</td>\n",
       "      <td>239</td>\n",
       "    </tr>\n",
       "  </tbody>\n",
       "</table>\n",
       "</div>"
      ],
      "text/plain": [
       "           Type  Count\n",
       "0    Unprovoked   4589\n",
       "1      Provoked    574\n",
       "2       Invalid    563\n",
       "3          Boat    341\n",
       "4  Sea Disaster    239"
      ]
     },
     "execution_count": 445,
     "metadata": {},
     "output_type": "execute_result"
    }
   ],
   "source": [
    "col_unique_counts(data, \"Type\")"
   ]
  },
  {
   "attachments": {},
   "cell_type": "markdown",
   "metadata": {},
   "source": [
    "Limpieza columna \"Case Number\"/\"Year\" y \"Href Formula\""
   ]
  },
  {
   "cell_type": "code",
   "execution_count": 446,
   "metadata": {},
   "outputs": [
    {
     "data": {
      "text/html": [
       "<div>\n",
       "<style scoped>\n",
       "    .dataframe tbody tr th:only-of-type {\n",
       "        vertical-align: middle;\n",
       "    }\n",
       "\n",
       "    .dataframe tbody tr th {\n",
       "        vertical-align: top;\n",
       "    }\n",
       "\n",
       "    .dataframe thead th {\n",
       "        text-align: right;\n",
       "    }\n",
       "</style>\n",
       "<table border=\"1\" class=\"dataframe\">\n",
       "  <thead>\n",
       "    <tr style=\"text-align: right;\">\n",
       "      <th></th>\n",
       "      <th>Case_Number</th>\n",
       "      <th>Date</th>\n",
       "      <th>Year</th>\n",
       "      <th>Type</th>\n",
       "      <th>Country</th>\n",
       "      <th>Area</th>\n",
       "      <th>Location</th>\n",
       "      <th>Activity</th>\n",
       "      <th>Name</th>\n",
       "      <th>Sex</th>\n",
       "      <th>Age</th>\n",
       "      <th>Injury</th>\n",
       "      <th>Fatal_(Y/N)</th>\n",
       "      <th>Time</th>\n",
       "      <th>Species</th>\n",
       "      <th>Investigator_Or_Source</th>\n",
       "      <th>Pdf</th>\n",
       "      <th>Href_Formula</th>\n",
       "      <th>Href</th>\n",
       "      <th>Case_Number_1</th>\n",
       "      <th>Case_Number_2</th>\n",
       "      <th>Original_Order</th>\n",
       "      <th>Time_groups</th>\n",
       "      <th>Age_Groups</th>\n",
       "    </tr>\n",
       "  </thead>\n",
       "  <tbody>\n",
       "    <tr>\n",
       "      <th>5482</th>\n",
       "      <td>NaN</td>\n",
       "      <td>Reported 06-Sep-1905</td>\n",
       "      <td>1905.0</td>\n",
       "      <td>Provoked</td>\n",
       "      <td>Usa</td>\n",
       "      <td>Florida</td>\n",
       "      <td>Fort Pierce, St Lucie County</td>\n",
       "      <td>Fishing</td>\n",
       "      <td>David Curry</td>\n",
       "      <td>M</td>\n",
       "      <td>0</td>\n",
       "      <td>Lacerations to leg from hooked shark PROVOKED ...</td>\n",
       "      <td>N</td>\n",
       "      <td>unknown</td>\n",
       "      <td>unknown</td>\n",
       "      <td>Muncie Evening Press, 8/6/1913</td>\n",
       "      <td>1905.09.06.R-Curry.pdf</td>\n",
       "      <td>http://sharkattackfile.net/spreadsheets/pdf_di...</td>\n",
       "      <td>http://sharkattackfile.net/spreadsheets/pdf_di...</td>\n",
       "      <td>1905.09.06.R</td>\n",
       "      <td>1905.09.06.R</td>\n",
       "      <td>815.0</td>\n",
       "      <td>No information</td>\n",
       "      <td>No information</td>\n",
       "    </tr>\n",
       "    <tr>\n",
       "      <th>6304</th>\n",
       "      <td>NaN</td>\n",
       "      <td>NaN</td>\n",
       "      <td>NaN</td>\n",
       "      <td>Invalid</td>\n",
       "      <td>Unknown</td>\n",
       "      <td>unknown</td>\n",
       "      <td>unknown</td>\n",
       "      <td>Surfing</td>\n",
       "      <td>unknown</td>\n",
       "      <td>unknown</td>\n",
       "      <td>0</td>\n",
       "      <td>unknown</td>\n",
       "      <td>UNKNOWN</td>\n",
       "      <td>unknown</td>\n",
       "      <td>unknown</td>\n",
       "      <td>unknown</td>\n",
       "      <td>NaN</td>\n",
       "      <td>NaN</td>\n",
       "      <td>NaN</td>\n",
       "      <td>NaN</td>\n",
       "      <td>NaN</td>\n",
       "      <td>NaN</td>\n",
       "      <td>No information</td>\n",
       "      <td>No information</td>\n",
       "    </tr>\n",
       "  </tbody>\n",
       "</table>\n",
       "</div>"
      ],
      "text/plain": [
       "     Case_Number                  Date    Year      Type  Country     Area   \n",
       "5482         NaN  Reported 06-Sep-1905  1905.0  Provoked      Usa  Florida  \\\n",
       "6304         NaN                   NaN     NaN   Invalid  Unknown  unknown   \n",
       "\n",
       "                          Location Activity         Name      Sex  Age   \n",
       "5482  Fort Pierce, St Lucie County  Fishing  David Curry        M    0  \\\n",
       "6304                       unknown  Surfing      unknown  unknown    0   \n",
       "\n",
       "                                                 Injury Fatal_(Y/N)     Time   \n",
       "5482  Lacerations to leg from hooked shark PROVOKED ...           N  unknown  \\\n",
       "6304                                            unknown     UNKNOWN  unknown   \n",
       "\n",
       "      Species          Investigator_Or_Source                     Pdf   \n",
       "5482  unknown  Muncie Evening Press, 8/6/1913  1905.09.06.R-Curry.pdf  \\\n",
       "6304  unknown                         unknown                     NaN   \n",
       "\n",
       "                                           Href_Formula   \n",
       "5482  http://sharkattackfile.net/spreadsheets/pdf_di...  \\\n",
       "6304                                                NaN   \n",
       "\n",
       "                                                   Href Case_Number_1   \n",
       "5482  http://sharkattackfile.net/spreadsheets/pdf_di...  1905.09.06.R  \\\n",
       "6304                                                NaN           NaN   \n",
       "\n",
       "     Case_Number_2  Original_Order     Time_groups      Age_Groups  \n",
       "5482  1905.09.06.R           815.0  No information  No information  \n",
       "6304           NaN             NaN  No information  No information  "
      ]
     },
     "execution_count": 446,
     "metadata": {},
     "output_type": "execute_result"
    }
   ],
   "source": [
    "data.loc[(data[\"Case_Number\"].isna())]"
   ]
  },
  {
   "cell_type": "code",
   "execution_count": 447,
   "metadata": {},
   "outputs": [],
   "source": [
    "data= data.drop(6304)"
   ]
  },
  {
   "cell_type": "code",
   "execution_count": 448,
   "metadata": {},
   "outputs": [
    {
     "data": {
      "text/html": [
       "<div>\n",
       "<style scoped>\n",
       "    .dataframe tbody tr th:only-of-type {\n",
       "        vertical-align: middle;\n",
       "    }\n",
       "\n",
       "    .dataframe tbody tr th {\n",
       "        vertical-align: top;\n",
       "    }\n",
       "\n",
       "    .dataframe thead th {\n",
       "        text-align: right;\n",
       "    }\n",
       "</style>\n",
       "<table border=\"1\" class=\"dataframe\">\n",
       "  <thead>\n",
       "    <tr style=\"text-align: right;\">\n",
       "      <th></th>\n",
       "      <th>Case_Number</th>\n",
       "      <th>Date</th>\n",
       "      <th>Year</th>\n",
       "      <th>Type</th>\n",
       "      <th>Country</th>\n",
       "      <th>Area</th>\n",
       "      <th>Location</th>\n",
       "      <th>Activity</th>\n",
       "      <th>Name</th>\n",
       "      <th>Sex</th>\n",
       "      <th>Age</th>\n",
       "      <th>Injury</th>\n",
       "      <th>Fatal_(Y/N)</th>\n",
       "      <th>Time</th>\n",
       "      <th>Species</th>\n",
       "      <th>Investigator_Or_Source</th>\n",
       "      <th>Pdf</th>\n",
       "      <th>Href_Formula</th>\n",
       "      <th>Href</th>\n",
       "      <th>Case_Number_1</th>\n",
       "      <th>Case_Number_2</th>\n",
       "      <th>Original_Order</th>\n",
       "      <th>Time_groups</th>\n",
       "      <th>Age_Groups</th>\n",
       "    </tr>\n",
       "  </thead>\n",
       "  <tbody>\n",
       "    <tr>\n",
       "      <th>5482</th>\n",
       "      <td>NaN</td>\n",
       "      <td>Reported 06-Sep-1905</td>\n",
       "      <td>1905.0</td>\n",
       "      <td>Provoked</td>\n",
       "      <td>Usa</td>\n",
       "      <td>Florida</td>\n",
       "      <td>Fort Pierce, St Lucie County</td>\n",
       "      <td>Fishing</td>\n",
       "      <td>David Curry</td>\n",
       "      <td>M</td>\n",
       "      <td>0</td>\n",
       "      <td>Lacerations to leg from hooked shark PROVOKED ...</td>\n",
       "      <td>N</td>\n",
       "      <td>unknown</td>\n",
       "      <td>unknown</td>\n",
       "      <td>Muncie Evening Press, 8/6/1913</td>\n",
       "      <td>1905.09.06.R-Curry.pdf</td>\n",
       "      <td>http://sharkattackfile.net/spreadsheets/pdf_di...</td>\n",
       "      <td>http://sharkattackfile.net/spreadsheets/pdf_di...</td>\n",
       "      <td>1905.09.06.R</td>\n",
       "      <td>1905.09.06.R</td>\n",
       "      <td>815.0</td>\n",
       "      <td>No information</td>\n",
       "      <td>No information</td>\n",
       "    </tr>\n",
       "    <tr>\n",
       "      <th>6296</th>\n",
       "      <td>0</td>\n",
       "      <td>NaN</td>\n",
       "      <td>NaN</td>\n",
       "      <td>Invalid</td>\n",
       "      <td>Unknown</td>\n",
       "      <td>unknown</td>\n",
       "      <td>unknown</td>\n",
       "      <td>Surfing</td>\n",
       "      <td>unknown</td>\n",
       "      <td>unknown</td>\n",
       "      <td>0</td>\n",
       "      <td>unknown</td>\n",
       "      <td>UNKNOWN</td>\n",
       "      <td>unknown</td>\n",
       "      <td>unknown</td>\n",
       "      <td>unknown</td>\n",
       "      <td>NaN</td>\n",
       "      <td>NaN</td>\n",
       "      <td>NaN</td>\n",
       "      <td>NaN</td>\n",
       "      <td>NaN</td>\n",
       "      <td>6304.0</td>\n",
       "      <td>No information</td>\n",
       "      <td>No information</td>\n",
       "    </tr>\n",
       "    <tr>\n",
       "      <th>6297</th>\n",
       "      <td>0</td>\n",
       "      <td>NaN</td>\n",
       "      <td>NaN</td>\n",
       "      <td>Invalid</td>\n",
       "      <td>Unknown</td>\n",
       "      <td>unknown</td>\n",
       "      <td>unknown</td>\n",
       "      <td>Surfing</td>\n",
       "      <td>unknown</td>\n",
       "      <td>unknown</td>\n",
       "      <td>0</td>\n",
       "      <td>unknown</td>\n",
       "      <td>UNKNOWN</td>\n",
       "      <td>unknown</td>\n",
       "      <td>unknown</td>\n",
       "      <td>unknown</td>\n",
       "      <td>NaN</td>\n",
       "      <td>NaN</td>\n",
       "      <td>NaN</td>\n",
       "      <td>NaN</td>\n",
       "      <td>NaN</td>\n",
       "      <td>6305.0</td>\n",
       "      <td>No information</td>\n",
       "      <td>No information</td>\n",
       "    </tr>\n",
       "    <tr>\n",
       "      <th>6298</th>\n",
       "      <td>0</td>\n",
       "      <td>NaN</td>\n",
       "      <td>NaN</td>\n",
       "      <td>Invalid</td>\n",
       "      <td>Unknown</td>\n",
       "      <td>unknown</td>\n",
       "      <td>unknown</td>\n",
       "      <td>Surfing</td>\n",
       "      <td>unknown</td>\n",
       "      <td>unknown</td>\n",
       "      <td>0</td>\n",
       "      <td>unknown</td>\n",
       "      <td>UNKNOWN</td>\n",
       "      <td>unknown</td>\n",
       "      <td>unknown</td>\n",
       "      <td>unknown</td>\n",
       "      <td>NaN</td>\n",
       "      <td>NaN</td>\n",
       "      <td>NaN</td>\n",
       "      <td>NaN</td>\n",
       "      <td>NaN</td>\n",
       "      <td>6306.0</td>\n",
       "      <td>No information</td>\n",
       "      <td>No information</td>\n",
       "    </tr>\n",
       "    <tr>\n",
       "      <th>6299</th>\n",
       "      <td>0</td>\n",
       "      <td>NaN</td>\n",
       "      <td>NaN</td>\n",
       "      <td>Invalid</td>\n",
       "      <td>Unknown</td>\n",
       "      <td>unknown</td>\n",
       "      <td>unknown</td>\n",
       "      <td>Surfing</td>\n",
       "      <td>unknown</td>\n",
       "      <td>unknown</td>\n",
       "      <td>0</td>\n",
       "      <td>unknown</td>\n",
       "      <td>UNKNOWN</td>\n",
       "      <td>unknown</td>\n",
       "      <td>unknown</td>\n",
       "      <td>unknown</td>\n",
       "      <td>NaN</td>\n",
       "      <td>NaN</td>\n",
       "      <td>NaN</td>\n",
       "      <td>NaN</td>\n",
       "      <td>NaN</td>\n",
       "      <td>6307.0</td>\n",
       "      <td>No information</td>\n",
       "      <td>No information</td>\n",
       "    </tr>\n",
       "    <tr>\n",
       "      <th>6300</th>\n",
       "      <td>0</td>\n",
       "      <td>NaN</td>\n",
       "      <td>NaN</td>\n",
       "      <td>Invalid</td>\n",
       "      <td>Unknown</td>\n",
       "      <td>unknown</td>\n",
       "      <td>unknown</td>\n",
       "      <td>Surfing</td>\n",
       "      <td>unknown</td>\n",
       "      <td>unknown</td>\n",
       "      <td>0</td>\n",
       "      <td>unknown</td>\n",
       "      <td>UNKNOWN</td>\n",
       "      <td>unknown</td>\n",
       "      <td>unknown</td>\n",
       "      <td>unknown</td>\n",
       "      <td>NaN</td>\n",
       "      <td>NaN</td>\n",
       "      <td>NaN</td>\n",
       "      <td>NaN</td>\n",
       "      <td>NaN</td>\n",
       "      <td>6308.0</td>\n",
       "      <td>No information</td>\n",
       "      <td>No information</td>\n",
       "    </tr>\n",
       "    <tr>\n",
       "      <th>6301</th>\n",
       "      <td>0</td>\n",
       "      <td>NaN</td>\n",
       "      <td>NaN</td>\n",
       "      <td>Invalid</td>\n",
       "      <td>Unknown</td>\n",
       "      <td>unknown</td>\n",
       "      <td>unknown</td>\n",
       "      <td>Surfing</td>\n",
       "      <td>unknown</td>\n",
       "      <td>unknown</td>\n",
       "      <td>0</td>\n",
       "      <td>unknown</td>\n",
       "      <td>UNKNOWN</td>\n",
       "      <td>unknown</td>\n",
       "      <td>unknown</td>\n",
       "      <td>unknown</td>\n",
       "      <td>NaN</td>\n",
       "      <td>NaN</td>\n",
       "      <td>NaN</td>\n",
       "      <td>NaN</td>\n",
       "      <td>NaN</td>\n",
       "      <td>6309.0</td>\n",
       "      <td>No information</td>\n",
       "      <td>No information</td>\n",
       "    </tr>\n",
       "    <tr>\n",
       "      <th>6302</th>\n",
       "      <td>0</td>\n",
       "      <td>NaN</td>\n",
       "      <td>NaN</td>\n",
       "      <td>Invalid</td>\n",
       "      <td>Unknown</td>\n",
       "      <td>unknown</td>\n",
       "      <td>unknown</td>\n",
       "      <td>Surfing</td>\n",
       "      <td>unknown</td>\n",
       "      <td>unknown</td>\n",
       "      <td>0</td>\n",
       "      <td>unknown</td>\n",
       "      <td>UNKNOWN</td>\n",
       "      <td>unknown</td>\n",
       "      <td>unknown</td>\n",
       "      <td>unknown</td>\n",
       "      <td>NaN</td>\n",
       "      <td>NaN</td>\n",
       "      <td>NaN</td>\n",
       "      <td>NaN</td>\n",
       "      <td>NaN</td>\n",
       "      <td>6310.0</td>\n",
       "      <td>No information</td>\n",
       "      <td>No information</td>\n",
       "    </tr>\n",
       "    <tr>\n",
       "      <th>6303</th>\n",
       "      <td>0</td>\n",
       "      <td>NaN</td>\n",
       "      <td>NaN</td>\n",
       "      <td>Invalid</td>\n",
       "      <td>Unknown</td>\n",
       "      <td>unknown</td>\n",
       "      <td>unknown</td>\n",
       "      <td>Surfing</td>\n",
       "      <td>unknown</td>\n",
       "      <td>unknown</td>\n",
       "      <td>0</td>\n",
       "      <td>unknown</td>\n",
       "      <td>UNKNOWN</td>\n",
       "      <td>unknown</td>\n",
       "      <td>unknown</td>\n",
       "      <td>unknown</td>\n",
       "      <td>NaN</td>\n",
       "      <td>NaN</td>\n",
       "      <td>NaN</td>\n",
       "      <td>NaN</td>\n",
       "      <td>NaN</td>\n",
       "      <td>NaN</td>\n",
       "      <td>No information</td>\n",
       "      <td>No information</td>\n",
       "    </tr>\n",
       "  </tbody>\n",
       "</table>\n",
       "</div>"
      ],
      "text/plain": [
       "     Case_Number                  Date    Year      Type  Country     Area   \n",
       "5482         NaN  Reported 06-Sep-1905  1905.0  Provoked      Usa  Florida  \\\n",
       "6296           0                   NaN     NaN   Invalid  Unknown  unknown   \n",
       "6297           0                   NaN     NaN   Invalid  Unknown  unknown   \n",
       "6298           0                   NaN     NaN   Invalid  Unknown  unknown   \n",
       "6299           0                   NaN     NaN   Invalid  Unknown  unknown   \n",
       "6300           0                   NaN     NaN   Invalid  Unknown  unknown   \n",
       "6301           0                   NaN     NaN   Invalid  Unknown  unknown   \n",
       "6302           0                   NaN     NaN   Invalid  Unknown  unknown   \n",
       "6303           0                   NaN     NaN   Invalid  Unknown  unknown   \n",
       "\n",
       "                          Location Activity         Name      Sex  Age   \n",
       "5482  Fort Pierce, St Lucie County  Fishing  David Curry        M    0  \\\n",
       "6296                       unknown  Surfing      unknown  unknown    0   \n",
       "6297                       unknown  Surfing      unknown  unknown    0   \n",
       "6298                       unknown  Surfing      unknown  unknown    0   \n",
       "6299                       unknown  Surfing      unknown  unknown    0   \n",
       "6300                       unknown  Surfing      unknown  unknown    0   \n",
       "6301                       unknown  Surfing      unknown  unknown    0   \n",
       "6302                       unknown  Surfing      unknown  unknown    0   \n",
       "6303                       unknown  Surfing      unknown  unknown    0   \n",
       "\n",
       "                                                 Injury Fatal_(Y/N)     Time   \n",
       "5482  Lacerations to leg from hooked shark PROVOKED ...           N  unknown  \\\n",
       "6296                                            unknown     UNKNOWN  unknown   \n",
       "6297                                            unknown     UNKNOWN  unknown   \n",
       "6298                                            unknown     UNKNOWN  unknown   \n",
       "6299                                            unknown     UNKNOWN  unknown   \n",
       "6300                                            unknown     UNKNOWN  unknown   \n",
       "6301                                            unknown     UNKNOWN  unknown   \n",
       "6302                                            unknown     UNKNOWN  unknown   \n",
       "6303                                            unknown     UNKNOWN  unknown   \n",
       "\n",
       "      Species          Investigator_Or_Source                     Pdf   \n",
       "5482  unknown  Muncie Evening Press, 8/6/1913  1905.09.06.R-Curry.pdf  \\\n",
       "6296  unknown                         unknown                     NaN   \n",
       "6297  unknown                         unknown                     NaN   \n",
       "6298  unknown                         unknown                     NaN   \n",
       "6299  unknown                         unknown                     NaN   \n",
       "6300  unknown                         unknown                     NaN   \n",
       "6301  unknown                         unknown                     NaN   \n",
       "6302  unknown                         unknown                     NaN   \n",
       "6303  unknown                         unknown                     NaN   \n",
       "\n",
       "                                           Href_Formula   \n",
       "5482  http://sharkattackfile.net/spreadsheets/pdf_di...  \\\n",
       "6296                                                NaN   \n",
       "6297                                                NaN   \n",
       "6298                                                NaN   \n",
       "6299                                                NaN   \n",
       "6300                                                NaN   \n",
       "6301                                                NaN   \n",
       "6302                                                NaN   \n",
       "6303                                                NaN   \n",
       "\n",
       "                                                   Href Case_Number_1   \n",
       "5482  http://sharkattackfile.net/spreadsheets/pdf_di...  1905.09.06.R  \\\n",
       "6296                                                NaN           NaN   \n",
       "6297                                                NaN           NaN   \n",
       "6298                                                NaN           NaN   \n",
       "6299                                                NaN           NaN   \n",
       "6300                                                NaN           NaN   \n",
       "6301                                                NaN           NaN   \n",
       "6302                                                NaN           NaN   \n",
       "6303                                                NaN           NaN   \n",
       "\n",
       "     Case_Number_2  Original_Order     Time_groups      Age_Groups  \n",
       "5482  1905.09.06.R           815.0  No information  No information  \n",
       "6296           NaN          6304.0  No information  No information  \n",
       "6297           NaN          6305.0  No information  No information  \n",
       "6298           NaN          6306.0  No information  No information  \n",
       "6299           NaN          6307.0  No information  No information  \n",
       "6300           NaN          6308.0  No information  No information  \n",
       "6301           NaN          6309.0  No information  No information  \n",
       "6302           NaN          6310.0  No information  No information  \n",
       "6303           NaN             NaN  No information  No information  "
      ]
     },
     "execution_count": 448,
     "metadata": {},
     "output_type": "execute_result"
    }
   ],
   "source": [
    "data.loc[(data[\"Case_Number\"].isna()) | (data[\"Case_Number\"] == \"0\")]"
   ]
  },
  {
   "cell_type": "code",
   "execution_count": 449,
   "metadata": {},
   "outputs": [],
   "source": [
    "data = data.drop(data[data[\"Case_Number\"] == \"0\"].index)"
   ]
  },
  {
   "cell_type": "code",
   "execution_count": 450,
   "metadata": {},
   "outputs": [],
   "source": [
    "data.iloc[5482,0]=\"1905.09.06.R\""
   ]
  },
  {
   "cell_type": "code",
   "execution_count": 451,
   "metadata": {},
   "outputs": [
    {
     "data": {
      "text/plain": [
       "Year              3\n",
       "Href_Formula      2\n",
       "Date              1\n",
       "Pdf               1\n",
       "Href              1\n",
       "Case_Number_1     1\n",
       "Case_Number_2     1\n",
       "Original_Order    1\n",
       "dtype: int64"
      ]
     },
     "execution_count": 451,
     "metadata": {},
     "output_type": "execute_result"
    }
   ],
   "source": [
    "nancols(data)"
   ]
  },
  {
   "cell_type": "code",
   "execution_count": 452,
   "metadata": {},
   "outputs": [],
   "source": [
    "data = data.drop(data[data[\"Case_Number\"] == \"xx\"].index)"
   ]
  },
  {
   "cell_type": "code",
   "execution_count": 453,
   "metadata": {},
   "outputs": [
    {
     "data": {
      "text/html": [
       "<div>\n",
       "<style scoped>\n",
       "    .dataframe tbody tr th:only-of-type {\n",
       "        vertical-align: middle;\n",
       "    }\n",
       "\n",
       "    .dataframe tbody tr th {\n",
       "        vertical-align: top;\n",
       "    }\n",
       "\n",
       "    .dataframe thead th {\n",
       "        text-align: right;\n",
       "    }\n",
       "</style>\n",
       "<table border=\"1\" class=\"dataframe\">\n",
       "  <thead>\n",
       "    <tr style=\"text-align: right;\">\n",
       "      <th></th>\n",
       "      <th>Case_Number</th>\n",
       "      <th>Date</th>\n",
       "      <th>Year</th>\n",
       "      <th>Type</th>\n",
       "      <th>Country</th>\n",
       "      <th>Area</th>\n",
       "      <th>Location</th>\n",
       "      <th>Activity</th>\n",
       "      <th>Name</th>\n",
       "      <th>Sex</th>\n",
       "      <th>Age</th>\n",
       "      <th>Injury</th>\n",
       "      <th>Fatal_(Y/N)</th>\n",
       "      <th>Time</th>\n",
       "      <th>Species</th>\n",
       "      <th>Investigator_Or_Source</th>\n",
       "      <th>Pdf</th>\n",
       "      <th>Href_Formula</th>\n",
       "      <th>Href</th>\n",
       "      <th>Case_Number_1</th>\n",
       "      <th>Case_Number_2</th>\n",
       "      <th>Original_Order</th>\n",
       "      <th>Time_groups</th>\n",
       "      <th>Age_Groups</th>\n",
       "    </tr>\n",
       "  </thead>\n",
       "  <tbody>\n",
       "    <tr>\n",
       "      <th>3238</th>\n",
       "      <td>1975.01.19</td>\n",
       "      <td>19-Jan-1975</td>\n",
       "      <td>1975.0</td>\n",
       "      <td>Unprovoked</td>\n",
       "      <td>Australia</td>\n",
       "      <td>South Australia</td>\n",
       "      <td>Coffin Bay</td>\n",
       "      <td>Surfing</td>\n",
       "      <td>David Barrowman</td>\n",
       "      <td>M</td>\n",
       "      <td>17</td>\n",
       "      <td>FATAL, body not recovered</td>\n",
       "      <td>Y</td>\n",
       "      <td>unknown</td>\n",
       "      <td>unknown</td>\n",
       "      <td>J. West; Adelaide Advertiser, 1/20/1975; P. Ke...</td>\n",
       "      <td>1975.01.19-Barrowman.pdf</td>\n",
       "      <td>NaN</td>\n",
       "      <td>http://sharkattackfile.net/spreadsheets/pdf_di...</td>\n",
       "      <td>1975.01.19</td>\n",
       "      <td>1975.01.19</td>\n",
       "      <td>3059.0</td>\n",
       "      <td>No information</td>\n",
       "      <td>teen</td>\n",
       "    </tr>\n",
       "  </tbody>\n",
       "</table>\n",
       "</div>"
      ],
      "text/plain": [
       "     Case_Number         Date    Year        Type    Country             Area   \n",
       "3238  1975.01.19  19-Jan-1975  1975.0  Unprovoked  Australia  South Australia  \\\n",
       "\n",
       "        Location Activity             Name Sex  Age   \n",
       "3238  Coffin Bay  Surfing  David Barrowman   M   17  \\\n",
       "\n",
       "                         Injury Fatal_(Y/N)     Time  Species   \n",
       "3238  FATAL, body not recovered           Y  unknown  unknown  \\\n",
       "\n",
       "                                 Investigator_Or_Source   \n",
       "3238  J. West; Adelaide Advertiser, 1/20/1975; P. Ke...  \\\n",
       "\n",
       "                           Pdf Href_Formula   \n",
       "3238  1975.01.19-Barrowman.pdf          NaN  \\\n",
       "\n",
       "                                                   Href Case_Number_1   \n",
       "3238  http://sharkattackfile.net/spreadsheets/pdf_di...    1975.01.19  \\\n",
       "\n",
       "     Case_Number_2  Original_Order     Time_groups Age_Groups  \n",
       "3238    1975.01.19          3059.0  No information       teen  "
      ]
     },
     "execution_count": 453,
     "metadata": {},
     "output_type": "execute_result"
    }
   ],
   "source": [
    "data.loc[(data[\"Href_Formula\"].isna())]"
   ]
  },
  {
   "cell_type": "code",
   "execution_count": 454,
   "metadata": {},
   "outputs": [],
   "source": [
    "data[\"Href_Formula\"].fillna(data[\"Href\"], inplace=True)"
   ]
  },
  {
   "cell_type": "code",
   "execution_count": 455,
   "metadata": {},
   "outputs": [
    {
     "data": {
      "text/html": [
       "<div>\n",
       "<style scoped>\n",
       "    .dataframe tbody tr th:only-of-type {\n",
       "        vertical-align: middle;\n",
       "    }\n",
       "\n",
       "    .dataframe tbody tr th {\n",
       "        vertical-align: top;\n",
       "    }\n",
       "\n",
       "    .dataframe thead th {\n",
       "        text-align: right;\n",
       "    }\n",
       "</style>\n",
       "<table border=\"1\" class=\"dataframe\">\n",
       "  <thead>\n",
       "    <tr style=\"text-align: right;\">\n",
       "      <th></th>\n",
       "      <th>Case_Number</th>\n",
       "      <th>Date</th>\n",
       "      <th>Year</th>\n",
       "      <th>Type</th>\n",
       "      <th>Country</th>\n",
       "      <th>Area</th>\n",
       "      <th>Location</th>\n",
       "      <th>Activity</th>\n",
       "      <th>Name</th>\n",
       "      <th>Sex</th>\n",
       "      <th>Age</th>\n",
       "      <th>Injury</th>\n",
       "      <th>Fatal_(Y/N)</th>\n",
       "      <th>Time</th>\n",
       "      <th>Species</th>\n",
       "      <th>Investigator_Or_Source</th>\n",
       "      <th>Pdf</th>\n",
       "      <th>Href_Formula</th>\n",
       "      <th>Href</th>\n",
       "      <th>Case_Number_1</th>\n",
       "      <th>Case_Number_2</th>\n",
       "      <th>Original_Order</th>\n",
       "      <th>Time_groups</th>\n",
       "      <th>Age_Groups</th>\n",
       "    </tr>\n",
       "  </thead>\n",
       "  <tbody>\n",
       "    <tr>\n",
       "      <th>181</th>\n",
       "      <td>2017.01.08.R</td>\n",
       "      <td>Reported 08-Jan-2017</td>\n",
       "      <td>NaN</td>\n",
       "      <td>Invalid</td>\n",
       "      <td>Australia</td>\n",
       "      <td>Queensland</td>\n",
       "      <td>unknown</td>\n",
       "      <td>Spearfishing</td>\n",
       "      <td>Kerry Daniel</td>\n",
       "      <td>M</td>\n",
       "      <td>35</td>\n",
       "      <td>No attack, shark made a threat display</td>\n",
       "      <td>UNKNOWN</td>\n",
       "      <td>unknown</td>\n",
       "      <td>Bull shark</td>\n",
       "      <td>Liquid Vision 1/8/2017</td>\n",
       "      <td>2017.01.08.R-KerryDaniel.pdf</td>\n",
       "      <td>http://sharkattackfile.net/spreadsheets/pdf_di...</td>\n",
       "      <td>http://sharkattackfile.net/spreadsheets/pdf_di...</td>\n",
       "      <td>2017.01.08.R</td>\n",
       "      <td>2017.01.08.R</td>\n",
       "      <td>6116.0</td>\n",
       "      <td>No information</td>\n",
       "      <td>adult</td>\n",
       "    </tr>\n",
       "    <tr>\n",
       "      <th>6073</th>\n",
       "      <td>1836.08.19.R</td>\n",
       "      <td>Reported 19-Aug-1836</td>\n",
       "      <td>NaN</td>\n",
       "      <td>Unprovoked</td>\n",
       "      <td>England</td>\n",
       "      <td>Cumberland</td>\n",
       "      <td>Whitehaven</td>\n",
       "      <td>Swimming</td>\n",
       "      <td>a boy</td>\n",
       "      <td>M</td>\n",
       "      <td>0</td>\n",
       "      <td>FATAL</td>\n",
       "      <td>Y</td>\n",
       "      <td>unknown</td>\n",
       "      <td>unknown</td>\n",
       "      <td>C. Moore, GSAF</td>\n",
       "      <td>1835.08.19.R-Whitehaven.pdf</td>\n",
       "      <td>http://sharkattackfile.net/spreadsheets/pdf_di...</td>\n",
       "      <td>http://sharkattackfile.net/spreadsheets/pdf_di...</td>\n",
       "      <td>1836.08.19.R</td>\n",
       "      <td>1836.08.19.R</td>\n",
       "      <td>224.0</td>\n",
       "      <td>No information</td>\n",
       "      <td>No information</td>\n",
       "    </tr>\n",
       "  </tbody>\n",
       "</table>\n",
       "</div>"
      ],
      "text/plain": [
       "       Case_Number                  Date  Year        Type    Country   \n",
       "181   2017.01.08.R  Reported 08-Jan-2017   NaN     Invalid  Australia  \\\n",
       "6073  1836.08.19.R  Reported 19-Aug-1836   NaN  Unprovoked    England   \n",
       "\n",
       "            Area    Location      Activity          Name Sex  Age   \n",
       "181   Queensland     unknown  Spearfishing  Kerry Daniel   M   35  \\\n",
       "6073  Cumberland  Whitehaven      Swimming         a boy   M    0   \n",
       "\n",
       "                                      Injury Fatal_(Y/N)     Time     Species   \n",
       "181   No attack, shark made a threat display     UNKNOWN  unknown  Bull shark  \\\n",
       "6073                                   FATAL           Y  unknown     unknown   \n",
       "\n",
       "      Investigator_Or_Source                           Pdf   \n",
       "181   Liquid Vision 1/8/2017  2017.01.08.R-KerryDaniel.pdf  \\\n",
       "6073          C. Moore, GSAF   1835.08.19.R-Whitehaven.pdf   \n",
       "\n",
       "                                           Href_Formula   \n",
       "181   http://sharkattackfile.net/spreadsheets/pdf_di...  \\\n",
       "6073  http://sharkattackfile.net/spreadsheets/pdf_di...   \n",
       "\n",
       "                                                   Href Case_Number_1   \n",
       "181   http://sharkattackfile.net/spreadsheets/pdf_di...  2017.01.08.R  \\\n",
       "6073  http://sharkattackfile.net/spreadsheets/pdf_di...  1836.08.19.R   \n",
       "\n",
       "     Case_Number_2  Original_Order     Time_groups      Age_Groups  \n",
       "181   2017.01.08.R          6116.0  No information           adult  \n",
       "6073  1836.08.19.R           224.0  No information  No information  "
      ]
     },
     "execution_count": 455,
     "metadata": {},
     "output_type": "execute_result"
    }
   ],
   "source": [
    "data.loc[(data[\"Year\"].isna())]"
   ]
  },
  {
   "cell_type": "code",
   "execution_count": 456,
   "metadata": {},
   "outputs": [],
   "source": [
    "data.iloc[181,2]=2017\n",
    "data.iloc[6073,2]=1836"
   ]
  },
  {
   "cell_type": "code",
   "execution_count": 457,
   "metadata": {},
   "outputs": [
    {
     "data": {
      "text/plain": [
       "Series([], dtype: int64)"
      ]
     },
     "execution_count": 457,
     "metadata": {},
     "output_type": "execute_result"
    }
   ],
   "source": [
    "nancols(data)"
   ]
  },
  {
   "cell_type": "code",
   "execution_count": 458,
   "metadata": {},
   "outputs": [],
   "source": [
    "data[\"Year\"] = data[\"Year\"].astype(int)"
   ]
  },
  {
   "attachments": {},
   "cell_type": "markdown",
   "metadata": {},
   "source": [
    "Limpieza Columna \"Date\""
   ]
  },
  {
   "cell_type": "code",
   "execution_count": 459,
   "metadata": {},
   "outputs": [],
   "source": [
    "#col_unique_counts(data, \"Date\")"
   ]
  },
  {
   "cell_type": "code",
   "execution_count": 460,
   "metadata": {},
   "outputs": [],
   "source": [
    "data[\"Date\"] = data[\"Date\"].str.replace(\"Before \", \"\")\n",
    "data[\"Date\"] = data[\"Date\"].str.replace(\"Reported \", \"\")"
   ]
  },
  {
   "cell_type": "code",
   "execution_count": 461,
   "metadata": {},
   "outputs": [],
   "source": [
    "data[\"Date\"] = data[\"Date\"].str.rstrip()\n",
    "data[\"Date\"] = data[\"Date\"].str.lstrip()"
   ]
  },
  {
   "cell_type": "code",
   "execution_count": 462,
   "metadata": {},
   "outputs": [],
   "source": [
    "#(data[\"Date\"].apply(len) != 11).value_counts() #Por constraints del profe no puedo borrar estas filas con formato fecha incorrecto ya que bajaría por debajo de lo permitido."
   ]
  },
  {
   "attachments": {},
   "cell_type": "markdown",
   "metadata": {},
   "source": [
    "Terminando"
   ]
  },
  {
   "cell_type": "code",
   "execution_count": 463,
   "metadata": {},
   "outputs": [
    {
     "name": "stdout",
     "output_type": "stream",
     "text": [
      "<class 'pandas.core.frame.DataFrame'>\n",
      "Index: 6296 entries, 0 to 6295\n",
      "Data columns (total 24 columns):\n",
      " #   Column                  Non-Null Count  Dtype  \n",
      "---  ------                  --------------  -----  \n",
      " 0   Case_Number             6296 non-null   object \n",
      " 1   Date                    6296 non-null   object \n",
      " 2   Year                    6296 non-null   int32  \n",
      " 3   Type                    6296 non-null   object \n",
      " 4   Country                 6296 non-null   object \n",
      " 5   Area                    6296 non-null   object \n",
      " 6   Location                6296 non-null   object \n",
      " 7   Activity                6296 non-null   object \n",
      " 8   Name                    6296 non-null   object \n",
      " 9   Sex                     6296 non-null   object \n",
      " 10  Age                     6296 non-null   int32  \n",
      " 11  Injury                  6296 non-null   object \n",
      " 12  Fatal_(Y/N)             6296 non-null   object \n",
      " 13  Time                    6296 non-null   object \n",
      " 14  Species                 6296 non-null   object \n",
      " 15  Investigator_Or_Source  6296 non-null   object \n",
      " 16  Pdf                     6296 non-null   object \n",
      " 17  Href_Formula            6296 non-null   object \n",
      " 18  Href                    6296 non-null   object \n",
      " 19  Case_Number_1           6296 non-null   object \n",
      " 20  Case_Number_2           6296 non-null   object \n",
      " 21  Original_Order          6296 non-null   float64\n",
      " 22  Time_groups             6296 non-null   object \n",
      " 23  Age_Groups              6296 non-null   object \n",
      "dtypes: float64(1), int32(2), object(21)\n",
      "memory usage: 1.2+ MB\n"
     ]
    }
   ],
   "source": [
    "data.info()"
   ]
  },
  {
   "cell_type": "code",
   "execution_count": 464,
   "metadata": {},
   "outputs": [
    {
     "data": {
      "text/plain": [
       "((25723, 24), (6296, 24))"
      ]
     },
     "execution_count": 464,
     "metadata": {},
     "output_type": "execute_result"
    }
   ],
   "source": [
    "dim_original, data.shape"
   ]
  },
  {
   "cell_type": "code",
   "execution_count": 465,
   "metadata": {},
   "outputs": [],
   "source": [
    "data = data.reset_index(drop=True) #Reseteamos una ultima vez. Y terminamos por asignar a Case Number el indice para homogenizar."
   ]
  },
  {
   "cell_type": "code",
   "execution_count": 466,
   "metadata": {},
   "outputs": [],
   "source": [
    "data = data.set_index('Case_Number').reset_index()\n",
    "data['Case_Number'] = data.index"
   ]
  },
  {
   "cell_type": "code",
   "execution_count": 468,
   "metadata": {},
   "outputs": [],
   "source": [
    "data.to_csv('../Sharknado/attacks_clean.csv')"
   ]
  }
 ],
 "metadata": {
  "kernelspec": {
   "display_name": "Python 3",
   "language": "python",
   "name": "python3"
  },
  "language_info": {
   "codemirror_mode": {
    "name": "ipython",
    "version": 3
   },
   "file_extension": ".py",
   "mimetype": "text/x-python",
   "name": "python",
   "nbconvert_exporter": "python",
   "pygments_lexer": "ipython3",
   "version": "3.11.2"
  },
  "orig_nbformat": 4
 },
 "nbformat": 4,
 "nbformat_minor": 2
}
