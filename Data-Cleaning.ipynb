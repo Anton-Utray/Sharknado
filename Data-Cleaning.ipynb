{
 "cells": [
  {
   "cell_type": "code",
   "execution_count": 28,
   "metadata": {},
   "outputs": [],
   "source": [
    "import pandas as pd\n",
    "import numpy as np\n",
    "from repo_funciones import *"
   ]
  },
  {
   "cell_type": "code",
   "execution_count": 29,
   "metadata": {},
   "outputs": [],
   "source": [
    "pd.set_option('display.max_columns', None)\n",
    "pd.set_option('display.max_rows', None)\n",
    "data = pd.read_csv('../Sharknado/attacks_messy.csv', encoding='utf-8',encoding_errors=\"ignore\" )"
   ]
  },
  {
   "attachments": {},
   "cell_type": "markdown",
   "metadata": {},
   "source": [
    "Exploración Inicial"
   ]
  },
  {
   "cell_type": "code",
   "execution_count": 30,
   "metadata": {},
   "outputs": [
    {
     "data": {
      "text/plain": [
       "(25723, 24)"
      ]
     },
     "execution_count": 30,
     "metadata": {},
     "output_type": "execute_result"
    }
   ],
   "source": [
    "dim_original = data.shape #Registramos dimensiones iniciales del archivo para luego ir comparando\n",
    "dim_original"
   ]
  },
  {
   "cell_type": "code",
   "execution_count": 31,
   "metadata": {},
   "outputs": [],
   "source": [
    "#data.head() Usamos estas funciones para ir haciendonos una idea de los datos y las columnas\n",
    "#data.tail() Con este nos damos cuenta de que al final del archivo hay filas enteras con valores nulos"
   ]
  },
  {
   "cell_type": "code",
   "execution_count": 32,
   "metadata": {},
   "outputs": [],
   "source": [
    "#data.info() #Estimación de que columnas necesitan mas trabajo. Por gusto mío prefiero verlo a la inversa -> que columnas tienen mas valores nulos."
   ]
  },
  {
   "cell_type": "code",
   "execution_count": 33,
   "metadata": {},
   "outputs": [
    {
     "data": {
      "text/plain": [
       "Unnamed: 22               25722\n",
       "Unnamed: 23               25721\n",
       "Time                      22775\n",
       "Species                   22259\n",
       "Age                       22252\n",
       "Sex                       19986\n",
       "Activity                  19965\n",
       "Location                  19961\n",
       "Fatal (Y/N)               19960\n",
       "Area                      19876\n",
       "Name                      19631\n",
       "Country                   19471\n",
       "Injury                    19449\n",
       "Investigator or Source    19438\n",
       "Type                      19425\n",
       "Year                      19423\n",
       "href formula              19422\n",
       "Date                      19421\n",
       "pdf                       19421\n",
       "href                      19421\n",
       "Case Number.1             19421\n",
       "Case Number.2             19421\n",
       "original order            19414\n",
       "Case Number               17021\n",
       "dtype: int64"
      ]
     },
     "execution_count": 33,
     "metadata": {},
     "output_type": "execute_result"
    }
   ],
   "source": [
    "nancols(data) #Conteo de valores nulos por col, ascending False."
   ]
  },
  {
   "cell_type": "code",
   "execution_count": 34,
   "metadata": {},
   "outputs": [
    {
     "data": {
      "text/plain": [
       "Unnamed: 22               100.00\n",
       "Unnamed: 23                99.99\n",
       "Time                       88.54\n",
       "Species                    86.53\n",
       "Age                        86.51\n",
       "Sex                        77.70\n",
       "Activity                   77.62\n",
       "Location                   77.60\n",
       "Fatal (Y/N)                77.60\n",
       "Area                       77.27\n",
       "Name                       76.32\n",
       "Country                    75.69\n",
       "Injury                     75.61\n",
       "Investigator or Source     75.57\n",
       "Type                       75.52\n",
       "Year                       75.51\n",
       "href formula               75.50\n",
       "Date                       75.50\n",
       "pdf                        75.50\n",
       "href                       75.50\n",
       "Case Number.1              75.50\n",
       "Case Number.2              75.50\n",
       "original order             75.47\n",
       "Case Number                66.17\n",
       "dtype: float64"
      ]
     },
     "execution_count": 34,
     "metadata": {},
     "output_type": "execute_result"
    }
   ],
   "source": [
    "nancolsper(data) #conteo de valores nulos como % del total de la columna. Nos da una mejor estimación "
   ]
  },
  {
   "attachments": {},
   "cell_type": "markdown",
   "metadata": {},
   "source": [
    "Limpieza duplicados y columnas vacias"
   ]
  },
  {
   "cell_type": "code",
   "execution_count": 35,
   "metadata": {},
   "outputs": [],
   "source": [
    "data= data.drop_duplicates()"
   ]
  },
  {
   "cell_type": "code",
   "execution_count": 36,
   "metadata": {},
   "outputs": [
    {
     "data": {
      "text/plain": [
       "array([False])"
      ]
     },
     "execution_count": 36,
     "metadata": {},
     "output_type": "execute_result"
    }
   ],
   "source": [
    "data.duplicated().unique()"
   ]
  },
  {
   "cell_type": "code",
   "execution_count": 37,
   "metadata": {},
   "outputs": [],
   "source": [
    "data=data.drop(nanrows(data)[nanrows(data)> 19]) #Si en una fila 90% de los valores son nulos, se descartan"
   ]
  },
  {
   "cell_type": "code",
   "execution_count": 38,
   "metadata": {},
   "outputs": [],
   "source": [
    "data = data.reset_index(drop=True)"
   ]
  },
  {
   "cell_type": "code",
   "execution_count": 39,
   "metadata": {},
   "outputs": [],
   "source": [
    "data = data.drop(nanrows(data)[nanrows(data) >= 15]) #Si en una fila 60% de los valores son nulos, se descartan."
   ]
  },
  {
   "cell_type": "code",
   "execution_count": 40,
   "metadata": {},
   "outputs": [
    {
     "data": {
      "text/plain": [
       "((25723, 24), (6306, 24))"
      ]
     },
     "execution_count": 40,
     "metadata": {},
     "output_type": "execute_result"
    }
   ],
   "source": [
    "dim_original, data.shape"
   ]
  },
  {
   "cell_type": "code",
   "execution_count": 41,
   "metadata": {},
   "outputs": [],
   "source": [
    "data = data.reset_index(drop=True)"
   ]
  },
  {
   "cell_type": "code",
   "execution_count": 42,
   "metadata": {},
   "outputs": [
    {
     "data": {
      "text/plain": [
       "Unnamed: 22               99.98\n",
       "Unnamed: 23               99.97\n",
       "Time                      53.30\n",
       "Species                   45.15\n",
       "Age                       45.04\n",
       "Sex                        9.12\n",
       "Activity                   8.79\n",
       "Location                   8.72\n",
       "Fatal (Y/N)                8.69\n",
       "Area                       7.37\n",
       "Name                       3.49\n",
       "Country                    0.95\n",
       "Injury                     0.60\n",
       "Investigator or Source     0.43\n",
       "Type                       0.22\n",
       "Year                       0.19\n",
       "href formula               0.17\n",
       "Date                       0.16\n",
       "pdf                        0.16\n",
       "href                       0.16\n",
       "Case Number.1              0.16\n",
       "Case Number.2              0.16\n",
       "original order             0.05\n",
       "Case Number                0.03\n",
       "dtype: float64"
      ]
     },
     "execution_count": 42,
     "metadata": {},
     "output_type": "execute_result"
    }
   ],
   "source": [
    "nancolsper(data) #Unamed 22 y 23 estan vacías y no aportan nada. Se descartan."
   ]
  },
  {
   "cell_type": "code",
   "execution_count": 43,
   "metadata": {},
   "outputs": [],
   "source": [
    "data.drop([\"Unnamed: 22\", \"Unnamed: 23\"], axis=1, inplace=True)  #Reminder, axis 0 son filas y axis columnas"
   ]
  },
  {
   "cell_type": "code",
   "execution_count": 44,
   "metadata": {},
   "outputs": [
    {
     "data": {
      "text/plain": [
       "Time                      53.30\n",
       "Species                   45.15\n",
       "Age                       45.04\n",
       "Sex                        9.12\n",
       "Activity                   8.79\n",
       "Location                   8.72\n",
       "Fatal (Y/N)                8.69\n",
       "Area                       7.37\n",
       "Name                       3.49\n",
       "Country                    0.95\n",
       "Injury                     0.60\n",
       "Investigator or Source     0.43\n",
       "Type                       0.22\n",
       "Year                       0.19\n",
       "href formula               0.17\n",
       "Date                       0.16\n",
       "Case Number.2              0.16\n",
       "pdf                        0.16\n",
       "href                       0.16\n",
       "Case Number.1              0.16\n",
       "original order             0.05\n",
       "Case Number                0.03\n",
       "dtype: float64"
      ]
     },
     "execution_count": 44,
     "metadata": {},
     "output_type": "execute_result"
    }
   ],
   "source": [
    "nancolsper(data) #Time,species y age, la proporción de valores nulos es demasiado representativa para poder rellenar con media/moda ya que introduciría un sesgo muy importante."
   ]
  },
  {
   "cell_type": "code",
   "execution_count": 45,
   "metadata": {},
   "outputs": [],
   "source": [
    "data.columns = data.columns.str.strip().str.capitalize().str.title().str.replace(':','').str.replace(' ','_').str.replace('.','_')"
   ]
  },
  {
   "attachments": {},
   "cell_type": "markdown",
   "metadata": {},
   "source": [
    "Limpieza Columna \"Time\""
   ]
  },
  {
   "cell_type": "code",
   "execution_count": 46,
   "metadata": {},
   "outputs": [],
   "source": [
    "#data[\"Time\"].unique() #Vemos hay muchas inconsistencias en los valores, hay que homogenizar"
   ]
  },
  {
   "cell_type": "code",
   "execution_count": 47,
   "metadata": {},
   "outputs": [],
   "source": [
    "#unique_cols(data) #364 valores unicos \n",
    "#get_unique_dtypes(data, \"Time\") #con strings y con floats. Se intuye floats seran los valores nulos."
   ]
  },
  {
   "cell_type": "code",
   "execution_count": 48,
   "metadata": {},
   "outputs": [],
   "source": [
    "data[\"Time\"]=data[\"Time\"].fillna(\"unknown\")"
   ]
  },
  {
   "cell_type": "code",
   "execution_count": 49,
   "metadata": {},
   "outputs": [],
   "source": [
    "data[\"Time\"] = data[\"Time\"].str.replace('h',':')"
   ]
  },
  {
   "cell_type": "code",
   "execution_count": 50,
   "metadata": {},
   "outputs": [],
   "source": [
    "#convención de tiempo\n",
    "#Morning: 6am a 12\n",
    "#afternoon: 12 a 7\n",
    "#night: 8 a 5am\n",
    "#Asumimos que todos ingresaron la hora en formato 24h\n",
    "data.loc[data[\"Time\"]==\"14:00  -15:00\", \"Time\"]=\"14:30\"\n",
    "data.loc[data[\"Time\"]==\"Late afternoon\", \"Time\"]=\"18:00\"\n",
    "data.loc[data[\"Time\"]==\"Morning\", \"Time\"]=\"09:00\"\n",
    "data.loc[data[\"Time\"]==\"19:00, Dusk\", \"Time\"]=\"19:00\"\n",
    "data.loc[data[\"Time\"]==\"Nig:t\", \"Time\"]=\"21:00\"\n",
    "data.loc[data[\"Time\"]==\"Afternoon\", \"Time\"]=\"17:00\"\n",
    "data.loc[data[\"Time\"]==\"Midday\", \"Time\"]=\"13:00\"\n",
    "data.loc[data[\"Time\"]==\"S:ortly before 12:00\", \"Time\"]=\"11:30\"\n",
    "data.loc[data[\"Time\"]==\"After noon\", \"Time\"]=\"13:00\"\n",
    "data.loc[data[\"Time\"]==\"14:30 / 15:30\", \"Time\"]=\"15:00\"\n",
    "data.loc[data[\"Time\"]==\"Midnig:t\", \"Time\"]=\"24:00\"\n",
    "data.loc[data[\"Time\"]==\"09:30 / 10:00\", \"Time\"]=\"09:40\"\n",
    "data.loc[data[\"Time\"]==\"10:45-11:15\", \"Time\"]=\"11:00\"\n",
    "data.loc[data[\"Time\"]==\"Evening\", \"Time\"]=\"20:00\"\n",
    "data.loc[data[\"Time\"]==\"Sometime between 06:00 & 08:oo\", \"Time\"]=\"07:00\"\n",
    "data.loc[data[\"Time\"]==\"Early afternoon\", \"Time\"]=\"14:00\"\n",
    "data.loc[data[\"Time\"]==\"18:15-18:30\", \"Time\"]=\"18:20\"\n",
    "data.loc[data[\"Time\"]==\"09:00 - 09:30\", \"Time\"]=\"09:15\"\n",
    "data.loc[data[\"Time\"]==\"0830\", \"Time\"]=\"08:30\"\n",
    "data.loc[data[\"Time\"]==\"Just before noon\", \"Time\"]=\"11:30\"\n",
    "data.loc[data[\"Time\"]==\"1600\", \"Time\"]=\"16:00\"\n",
    "data.loc[data[\"Time\"]==\"Early morning\", \"Time\"]=\"09:00\"\n",
    "data.loc[data[\"Time\"]==\"Dawn\", \"Time\"]=\"07:00\"\n",
    "data.loc[data[\"Time\"]==\"AM\", \"Time\"]=\"07:00\"\n",
    "data.loc[data[\"Time\"]==\"A.M\", \"Time\"]=\"07:00\"\n",
    "data.loc[data[\"Time\"]==\"Dusk\", \"Time\"]=\"20:00\"\n",
    "data.loc[data[\"Time\"]==\"Lunc:time\", \"Time\"]=\"13:00\"\n",
    "data.loc[data[\"Time\"]==\"15j45\", \"Time\"]=\"15:45\"\n",
    "data.loc[data[\"Time\"]==\"0500\", \"Time\"]=\"05:00\"\n",
    "data.loc[data[\"Time\"]==\"Before 07:00\", \"Time\"]=\"06:00\"\n",
    "data.loc[data[\"Time\"]==\"10:00 -- 11:00\", \"Time\"]=\"10:30\"\n",
    "data.loc[data[\"Time\"]=='\"Just before 11:00\"', \"Time\"]=\"10:30\"\n",
    "data.loc[data[\"Time\"]==\"Sunset\", \"Time\"]=\"19:30\"\n",
    "data.loc[data[\"Time\"]==\"Just before sundown\", \"Time\"]=\"19:30\"\n",
    "data.loc[data[\"Time\"]==\"Between 05:00 and 08:00\", \"Time\"]=\"06:30\"\n",
    "data.loc[data[\"Time\"]==\"17:00 or 17:40\", \"Time\"]=\"17:20\"\n",
    "data.loc[data[\"Time\"]==\">08:00\", \"Time\"]=\"08:20\"\n",
    "data.loc[data[\"Time\"]==\"--\", \"Time\"]=\"unknown\"\n",
    "data.loc[data[\"Time\"]==\"Just after 12:00\", \"Time\"]=\"12:30\"\n",
    "data.loc[data[\"Time\"]==\"Early Morning\", \"Time\"]=\"08:30\"\n",
    "data.loc[data[\"Time\"]==\"S:ortly after midnig:t\", \"Time\"]=\"24:30\"\n",
    "data.loc[data[\"Time\"]==\"09:00 -10:00\", \"Time\"]=\"09:30\"\n",
    "data.loc[data[\"Time\"]==\"20:45 (Sunset)\", \"Time\"]=\"20:45\"\n",
    "data.loc[data[\"Time\"]==\"Late morning\", \"Time\"]=\"11:00\"\n",
    "data.loc[data[\"Time\"]==\"P.M.\", \"Time\"]=\"14:00\"\n",
    "data.loc[data[\"Time\"]==\"S:ortly before 13:00\", \"Time\"]=\"12:00\"\n",
    "data.loc[data[\"Time\"]==\"8:04 pm\", \"Time\"]=\"08:00\"\n",
    "data.loc[data[\"Time\"]==\"Possibly same incident as 2000.08.21\", \"Time\"]=\"unknown\"\n",
    "data.loc[data[\"Time\"]==\"After Dusk\", \"Time\"]=\"09:00\"\n",
    "data.loc[data[\"Time\"]==\"Noon\", \"Time\"]=\"12:00\"\n",
    "data.loc[data[\"Time\"]==\"2 :ours after Opperman\", \"Time\"]=\"unknown\"\n",
    "data.loc[data[\"Time\"]==\"Mid afternoon\", \"Time\"]=\"14:00\"\n",
    "data.loc[data[\"Time\"]==\"Mid morning\", \"Time\"]=\"11:00\"\n",
    "data.loc[data[\"Time\"]==\"11:00 / 11:30\", \"Time\"]=\"11:00\"\n",
    "data.loc[data[\"Time\"]=='\"Nig:t\"', \"Time\"]=\"21:00\"\n",
    "data.loc[data[\"Time\"]=='18:30?', \"Time\"]=\"18:30\"\n",
    "data.loc[data[\"Time\"]=='30 minutes after 1992.07.08.a', \"Time\"]=\"unknown\"\n",
    "data.loc[data[\"Time\"]==\">06:45\", \"Time\"]=\"06:45\"\n",
    "data.loc[data[\"Time\"]==\"Between 06:00 & 07:20\", \"Time\"]=\"06:45\"\n",
    "data.loc[data[\"Time\"]==\"<07:30\", \"Time\"]=\"06:45\"\n",
    "data.loc[data[\"Time\"]==\"17:00 Sunset\", \"Time\"]=\"17:00\"\n",
    "data.loc[data[\"Time\"]==\"Nig:tfal\", \"Time\"]=\"20:00\"\n",
    "data.loc[data[\"Time\"]==\"X\", \"Time\"]=\"unknown\"\n",
    "data.loc[data[\"Time\"]==\"18:30 (Sunset)\", \"Time\"]=\"18:30\"\n",
    "data.loc[data[\"Time\"]==\"06j00\", \"Time\"]=\"06:00\"\n",
    "data.loc[data[\"Time\"]==\"Prior to 10:37\", \"Time\"]=\"10:00\"\n",
    "data.loc[data[\"Time\"]==\"Daybreak\", \"Time\"]=\"20:00\"\n",
    "data.loc[data[\"Time\"]==\">12:00\", \"Time\"]=\"12:00\"\n",
    "data.loc[data[\"Time\"]==\"Mid-morning\", \"Time\"]=\"11:00\"\n",
    "data.loc[data[\"Time\"]==\"16:30 or 18:00\", \"Time\"]=\"18:00\"\n",
    "data.loc[data[\"Time\"]==\"Just before dawn\", \"Time\"]=\"19:00\"\n",
    "data.loc[data[\"Time\"]==\"Daytime\", \"Time\"]=\"10:00\"\n",
    "data.loc[data[\"Time\"]==\"Dark\", \"Time\"]=\"23:00\"\n",
    "data.loc[data[\"Time\"]==\"10:00 / 11:00\", \"Time\"]=\"10:00\"\n",
    "data.loc[data[\"Time\"]=='\"After lunc:\"', \"Time\"]=\"16:00\"\n",
    "data.loc[data[\"Time\"]=='15:00 or 15:45', \"Time\"]=\"15:00\"\n",
    "data.loc[data[\"Time\"]=='>17:00', \"Time\"]=\"17:00\"\n",
    "data.loc[data[\"Time\"]=='19:00 / 20:00', \"Time\"]=\"19:00\"\n",
    "data.loc[data[\"Time\"]==\"12:45 / 13:45\", \"Time\"]=\"13:00\"\n",
    "data.loc[data[\"Time\"]==\"14:00 - 15:00\", \"Time\"]=\"14:00\"\n",
    "data.loc[data[\"Time\"]==\"nig:t\", \"Time\"]=\"20:00\"\n",
    "data.loc[data[\"Time\"]==\"03:45 - 04:00\", \"Time\"]=\"03:00\"\n",
    "data.loc[data[\"Time\"]==\"Late nig:t\", \"Time\"]=\"23:00\"\n",
    "data.loc[data[\"Time\"]==\"10:30 or 13:30\", \"Time\"]=\"12:00\"\n",
    "data.loc[data[\"Time\"]==\"15:00j\", \"Time\"]=\"15:00\"\n",
    "data.loc[data[\"Time\"]==\"Midday.\", \"Time\"]=\"12:00\"\n",
    "data.loc[data[\"Time\"]=='\"After dark\"', \"Time\"]=\"23:00\"\n",
    "data.loc[data[\"Time\"]=='10:00 or 14:00\"', \"Time\"]=\"23:00\"\n",
    "data.loc[data[\"Time\"]==\"2 :rs before sunset\", \"Time\"]=\"16:00\"\n",
    "data.loc[data[\"Time\"]==\"18:15 to 21:30\", \"Time\"]=\"16:00\"\n",
    "data.loc[data[\"Time\"]==\"1500\", \"Time\"]=\"15:00\"\n",
    "data.loc[data[\"Time\"]==\"A.M.\", \"Time\"]=\"09:00\"\n",
    "data.loc[data[\"Time\"]==\"Morning \", \"Time\"]=\"09:00\"\n",
    "data.loc[data[\"Time\"]==\"07:00 - 08:00\", \"Time\"]=\"07:00\"\n",
    "data.loc[data[\"Time\"]==\"  \", \"Time\"]=\"unknown\"\n",
    "data.loc[data[\"Time\"]=='\"Evening\"', \"Time\"]=\"unknown\"\n",
    "data.loc[data[\"Time\"]==\"11:30 \", \"Time\"]=\"11:30\"\n",
    "data.loc[data[\"Time\"]==' ', \"Time\"]=\"unknown\"\n",
    "data.loc[data[\"Time\"]==\"Nig:tfall\", \"Time\"]=\"21:00\"\n",
    "data.loc[data[\"Time\"]==\"09:30 / 15:30\", \"Time\"]=\"12:00\"\n",
    "data.loc[data[\"Time\"]==\"12:00 to 14:00\", \"Time\"]=\"13:00\"\n",
    "data.loc[data[\"Time\"]==\"10:00 or 14:00\", \"Time\"]=\"13:00\"\n",
    "data.loc[data[\"Time\"]=='\"s:ortly before dusk\"', \"Time\"]=\"20:00\"\n",
    "data.loc[data[\"Time\"]==\">17:30\", \"Time\"]=\"18:00\"\n",
    "data.loc[data[\"Time\"]==\">14:30\", \"Time\"]=\"15:00\"\n",
    "data.loc[data[\"Time\"]==\"Between 11:00 & 12:00\", \"Time\"]=\"11:00\"\n",
    "data.loc[data[\"Time\"]==\"After 04:00\", \"Time\"]=\"05:00\"\n",
    "data.loc[data[\"Time\"]==\"11:01 -time of s:ip sinking\", \"Time\"]=\"11:00\"\n",
    "data.loc[data[\"Time\"]==\"S:ip aban-doned at 03:10\", \"Time\"]=\"03:00\"\n",
    "data.loc[data[\"Time\"]==\"After dusk\", \"Time\"]=\"22:00\"\n",
    "data.loc[data[\"Time\"]==\"FATAL  (Wire netting installed at local beac:es after t:is incident.)\", \"Time\"]=\"unknown\"\n",
    "data.loc[data[\"Time\"]==\"After midnig:t\", \"Time\"]=\"01:00\"\n",
    "data.loc[data[\"Time\"]==\"Late afternon\", \"Time\"]=\"18:00\"\n",
    "data.loc[data[\"Time\"]=='\"Early evening\"', \"Time\"]=\"20:00\"\n",
    "data.loc[data[\"Time\"]==\"Late Afternoon\", \"Time\"]=\"18:00\"\n",
    "data.loc[data[\"Time\"]==\"   \", \"Time\"]=\"unknown\"\n",
    "data.loc[data[\"Time\"]==\"Before daybreak\", \"Time\"]=\"19:00\"\n",
    "data.loc[data[\"Time\"]==\"dusk\", \"Time\"]=\"20:00\"\n",
    "data.loc[data[\"Time\"]==\"Before 10:30\", \"Time\"]=\"20:00\"\n",
    "data.loc[data[\"Time\"]==\"06:00 -- 07:00\", \"Time\"]=\"06:00\"\n",
    "data.loc[data[\"Time\"]==\"17:00-18:00\", \"Time\"]=\"17:00\"\n",
    "data.loc[data[\"Time\"]==\"19:00-20:00\", \"Time\"]=\"19:00\"\n",
    "data.loc[data[\"Time\"]==\"1300\", \"Time\"]=\"13:00\"\n",
    "data.loc[data[\"Time\"]==\"11:115\", \"Time\"]=\"11:00\"\n",
    "data.loc[data[\"Time\"]==\"13:345\", \"Time\"]=\"11:00\"\n",
    "data.loc[data[\"Time\"]==\"08:00 / 09:30\", \"Time\"]=\"08:00\"\n",
    "data.loc[data[\"Time\"]==\" 14:00\", \"Time\"]=\"14:00\""
   ]
  },
  {
   "cell_type": "code",
   "execution_count": 51,
   "metadata": {},
   "outputs": [
    {
     "data": {
      "text/plain": [
       "array([<class 'str'>], dtype=object)"
      ]
     },
     "execution_count": 51,
     "metadata": {},
     "output_type": "execute_result"
    }
   ],
   "source": [
    "#note to self, hubieses empezado quitando valores especiales/espaciosR.L y te hubieses ahorrado la mitad de este chorizo :,)\n",
    "#data[\"Time\"].unique()\n",
    "get_unique_dtypes(data, \"Time\")"
   ]
  },
  {
   "cell_type": "code",
   "execution_count": 52,
   "metadata": {},
   "outputs": [],
   "source": [
    "data[\"Time_groups\"] = data['Time'].apply(time_of_day)"
   ]
  },
  {
   "cell_type": "code",
   "execution_count": 53,
   "metadata": {},
   "outputs": [
    {
     "data": {
      "text/html": [
       "<div>\n",
       "<style scoped>\n",
       "    .dataframe tbody tr th:only-of-type {\n",
       "        vertical-align: middle;\n",
       "    }\n",
       "\n",
       "    .dataframe tbody tr th {\n",
       "        vertical-align: top;\n",
       "    }\n",
       "\n",
       "    .dataframe thead th {\n",
       "        text-align: right;\n",
       "    }\n",
       "</style>\n",
       "<table border=\"1\" class=\"dataframe\">\n",
       "  <thead>\n",
       "    <tr style=\"text-align: right;\">\n",
       "      <th></th>\n",
       "      <th>Time_groups</th>\n",
       "      <th>Count</th>\n",
       "    </tr>\n",
       "  </thead>\n",
       "  <tbody>\n",
       "    <tr>\n",
       "      <th>0</th>\n",
       "      <td>No information</td>\n",
       "      <td>3378</td>\n",
       "    </tr>\n",
       "    <tr>\n",
       "      <th>1</th>\n",
       "      <td>Afternoon</td>\n",
       "      <td>1702</td>\n",
       "    </tr>\n",
       "    <tr>\n",
       "      <th>2</th>\n",
       "      <td>Morning</td>\n",
       "      <td>1124</td>\n",
       "    </tr>\n",
       "    <tr>\n",
       "      <th>3</th>\n",
       "      <td>Night</td>\n",
       "      <td>102</td>\n",
       "    </tr>\n",
       "  </tbody>\n",
       "</table>\n",
       "</div>"
      ],
      "text/plain": [
       "      Time_groups  Count\n",
       "0  No information   3378\n",
       "1       Afternoon   1702\n",
       "2         Morning   1124\n",
       "3           Night    102"
      ]
     },
     "execution_count": 53,
     "metadata": {},
     "output_type": "execute_result"
    }
   ],
   "source": [
    "col_unique_counts(data, \"Time_groups\")"
   ]
  },
  {
   "attachments": {},
   "cell_type": "markdown",
   "metadata": {},
   "source": [
    "Limpieza especies "
   ]
  },
  {
   "cell_type": "code",
   "execution_count": 54,
   "metadata": {},
   "outputs": [],
   "source": [
    "data[\"Species\"]=data[\"Species\"].fillna(\"unknown\")"
   ]
  },
  {
   "attachments": {},
   "cell_type": "markdown",
   "metadata": {},
   "source": [
    "Limpieza \"Age\""
   ]
  },
  {
   "cell_type": "code",
   "execution_count": 56,
   "metadata": {},
   "outputs": [
    {
     "data": {
      "text/plain": [
       "Age                       45.04\n",
       "Sex                        9.12\n",
       "Activity                   8.79\n",
       "Location                   8.72\n",
       "Fatal_(Y/N)                8.69\n",
       "Area                       7.37\n",
       "Name                       3.49\n",
       "Country                    0.95\n",
       "Injury                     0.60\n",
       "Investigator_Or_Source     0.43\n",
       "Type                       0.22\n",
       "Year                       0.19\n",
       "Href_Formula               0.17\n",
       "Case_Number_2              0.16\n",
       "Date                       0.16\n",
       "Pdf                        0.16\n",
       "Href                       0.16\n",
       "Case_Number_1              0.16\n",
       "Original_Order             0.05\n",
       "Case_Number                0.03\n",
       "dtype: float64"
      ]
     },
     "execution_count": 56,
     "metadata": {},
     "output_type": "execute_result"
    }
   ],
   "source": [
    "nancolsper(data)"
   ]
  }
 ],
 "metadata": {
  "kernelspec": {
   "display_name": "Python 3",
   "language": "python",
   "name": "python3"
  },
  "language_info": {
   "codemirror_mode": {
    "name": "ipython",
    "version": 3
   },
   "file_extension": ".py",
   "mimetype": "text/x-python",
   "name": "python",
   "nbconvert_exporter": "python",
   "pygments_lexer": "ipython3",
   "version": "3.11.2"
  },
  "orig_nbformat": 4
 },
 "nbformat": 4,
 "nbformat_minor": 2
}
